{
 "cells": [
  {
   "cell_type": "code",
   "execution_count": 2,
   "source": [
    "# icecube_data.ipynb\r\n",
    "# Authors: Stephan Meighen-Berger\r\n",
    "# Incorporates the IceCube 10 year data release"
   ],
   "outputs": [],
   "metadata": {}
  },
  {
   "cell_type": "code",
   "execution_count": 4,
   "source": [
    "# Imports\r\n",
    "import numpy as np\r\n",
    "import matplotlib.pyplot as plt\r\n",
    "import pickle\r\n",
    "from tqdm import tqdm\r\n",
    "import pickle\r\n",
    "import csv\r\n",
    "from iminuit import Minuit\r\n",
    "from scipy.interpolate import UnivariateSpline"
   ],
   "outputs": [],
   "metadata": {}
  },
  {
   "cell_type": "code",
   "execution_count": 5,
   "source": [
    "# picture path\r\n",
    "PICS = '../pics/'"
   ],
   "outputs": [],
   "metadata": {}
  },
  {
   "cell_type": "code",
   "execution_count": 6,
   "source": [
    "from matplotlib import rc\r\n",
    "rc('font',**{'family':'sans-serif','sans-serif':['Helvetica']})\r\n",
    "rc('text', usetex=True)"
   ],
   "outputs": [],
   "metadata": {}
  },
  {
   "cell_type": "code",
   "execution_count": 7,
   "source": [
    "# Plotting standards\r\n",
    "std_size = 6.\r\n",
    "fontsize = 20.\r\n",
    "lw=1.\r\n",
    "h_length=1.\r\n",
    "mark_s = 10\r\n",
    "# params\r\n",
    "mag_fit = 1.\r\n",
    "colors = ['#fef0d9', '#fdcc8a', '#fc8d59', '#e34a33', '#b30000']\r\n",
    "alphas = [0.2, 0.4, 0.6, 0.8, 1.]\r\n",
    "# labels_mass = ['1\\;TeV', '100\\;TeV', '10\\;PeV', '30\\;TeV']\r\n",
    "linest = ['-', '--', '-.', ':']"
   ],
   "outputs": [],
   "metadata": {}
  },
  {
   "cell_type": "code",
   "execution_count": 8,
   "source": [
    "# Constants\r\n",
    "minutes = 60.\r\n",
    "days = 60. * 24"
   ],
   "outputs": [],
   "metadata": {}
  },
  {
   "cell_type": "code",
   "execution_count": 9,
   "source": [
    "def ice_parser(filename):\r\n",
    "    store = []\r\n",
    "    with open(filename, newline='') as csvfile:\r\n",
    "        reader = csv.reader(csvfile)\r\n",
    "        for row_num, row in enumerate(reader):\r\n",
    "            if row_num == 0:\r\n",
    "                continue\r\n",
    "            store.append(row[0].split())\r\n",
    "    store = np.array(store, dtype=float)\r\n",
    "    return store\r\n",
    "# log10(E_nu/GeV)_min, log10(E_nu/GeV)_max, Dec_nu_min[deg], Dec_nu_max[deg], A_Eff[cm^2]\r\n",
    "eff_areas = [\r\n",
    "    '../data/icecube_10year_ps/irfs/IC40_effectiveArea.csv',\r\n",
    "    '../data/icecube_10year_ps/irfs/IC59_effectiveArea.csv',\r\n",
    "    '../data/icecube_10year_ps/irfs/IC79_effectiveArea.csv',\r\n",
    "    '../data/icecube_10year_ps/irfs/IC86_I_effectiveArea.csv',\r\n",
    "    '../data/icecube_10year_ps/irfs/IC86_II_effectiveArea.csv',\r\n",
    "]\r\n",
    "eff_dic = {\r\n",
    "    0: ice_parser(eff_areas[0]),\r\n",
    "    1: ice_parser(eff_areas[1]),\r\n",
    "    2: ice_parser(eff_areas[2]),\r\n",
    "    3: ice_parser(eff_areas[3]),\r\n",
    "    4: ice_parser(eff_areas[4]),\r\n",
    "    5: ice_parser(eff_areas[4]),\r\n",
    "    6: ice_parser(eff_areas[4]),\r\n",
    "    7: ice_parser(eff_areas[4]),\r\n",
    "    8: ice_parser(eff_areas[4]),\r\n",
    "    9: ice_parser(eff_areas[4]),\r\n",
    "}"
   ],
   "outputs": [],
   "metadata": {}
  },
  {
   "cell_type": "code",
   "execution_count": 10,
   "source": [
    "plt.scatter(eff_dic[0][:, 2], eff_dic[0][:, -1])"
   ],
   "outputs": [
    {
     "output_type": "execute_result",
     "data": {
      "text/plain": [
       "<matplotlib.collections.PathCollection at 0x1f7cc755d90>"
      ]
     },
     "metadata": {},
     "execution_count": 10
    },
    {
     "output_type": "display_data",
     "data": {
      "text/plain": [
       "<Figure size 432x288 with 1 Axes>"
      ],
      "image/png": "[encoded data removed]"
     },
     "metadata": {
      "needs_background": "light"
     }
    }
   ],
   "metadata": {}
  },
  {
   "cell_type": "code",
   "execution_count": 11,
   "source": [
    "# MJD, log10(E/GeV), AngErr[deg], RA[deg], Dec[deg], Azimuth[deg], Zenith[deg]\r\n",
    "data_sets = [\r\n",
    "    '../data/icecube_10year_ps/events/IC40_exp.csv',\r\n",
    "    '../data/icecube_10year_ps/events/IC59_exp.csv',\r\n",
    "    '../data/icecube_10year_ps/events/IC79_exp.csv',\r\n",
    "    '../data/icecube_10year_ps/events/IC86_I_exp.csv',\r\n",
    "    '../data/icecube_10year_ps/events/IC86_II_exp.csv',\r\n",
    "    '../data/icecube_10year_ps/events/IC86_III_exp.csv',\r\n",
    "    '../data/icecube_10year_ps/events/IC86_IV_exp.csv',\r\n",
    "    '../data/icecube_10year_ps/events/IC86_V_exp.csv',\r\n",
    "    '../data/icecube_10year_ps/events/IC86_VI_exp.csv',\r\n",
    "    '../data/icecube_10year_ps/events/IC86_VII_exp.csv',\r\n",
    "]\r\n",
    "event_dic = {\r\n",
    "    0: ice_parser(data_sets[0]),\r\n",
    "    1: ice_parser(data_sets[1]),\r\n",
    "    2: ice_parser(data_sets[2]),\r\n",
    "    3: ice_parser(data_sets[3]),\r\n",
    "    4: ice_parser(data_sets[4]),\r\n",
    "    5: ice_parser(data_sets[5]),\r\n",
    "    6: ice_parser(data_sets[6]),\r\n",
    "    7: ice_parser(data_sets[7]),\r\n",
    "    8: ice_parser(data_sets[8]),\r\n",
    "    9: ice_parser(data_sets[9]),\r\n",
    "}"
   ],
   "outputs": [],
   "metadata": {}
  },
  {
   "cell_type": "code",
   "execution_count": 12,
   "source": [
    "counts1 = plt.hist(event_dic[9][:, 1], bins=100)\r\n",
    "counts2 = plt.hist(event_dic[0][:, 1], bins=100)"
   ],
   "outputs": [
    {
     "output_type": "display_data",
     "data": {
      "text/plain": [
       "<Figure size 432x288 with 1 Axes>"
      ],
      "image/png": "[encoded data removed]"
     },
     "metadata": {
      "needs_background": "light"
     }
    }
   ],
   "metadata": {}
  },
  {
   "cell_type": "code",
   "execution_count": 13,
   "source": [
    "# MJD, log10(E/GeV), AngErr[deg], RA[deg], Dec[deg], Azimuth[deg], Zenith[deg]\r\n",
    "uptime_sets = [\r\n",
    "    '../data/icecube_10year_ps/uptime/IC40_exp.csv',\r\n",
    "    '../data/icecube_10year_ps/uptime/IC59_exp.csv',\r\n",
    "    '../data/icecube_10year_ps/uptime/IC79_exp.csv',\r\n",
    "    '../data/icecube_10year_ps/uptime/IC86_I_exp.csv',\r\n",
    "    '../data/icecube_10year_ps/uptime/IC86_II_exp.csv',\r\n",
    "    '../data/icecube_10year_ps/uptime/IC86_III_exp.csv',\r\n",
    "    '../data/icecube_10year_ps/uptime/IC86_IV_exp.csv',\r\n",
    "    '../data/icecube_10year_ps/uptime/IC86_V_exp.csv',\r\n",
    "    '../data/icecube_10year_ps/uptime/IC86_VI_exp.csv',\r\n",
    "    '../data/icecube_10year_ps/uptime/IC86_VII_exp.csv',\r\n",
    "]\r\n",
    "uptime_dic = {\r\n",
    "    0: ice_parser(uptime_sets[0]),\r\n",
    "    1: ice_parser(uptime_sets[1]),\r\n",
    "    2: ice_parser(uptime_sets[2]),\r\n",
    "    3: ice_parser(uptime_sets[3]),\r\n",
    "    4: ice_parser(uptime_sets[4]),\r\n",
    "    5: ice_parser(uptime_sets[5]),\r\n",
    "    6: ice_parser(uptime_sets[6]),\r\n",
    "    7: ice_parser(uptime_sets[7]),\r\n",
    "    8: ice_parser(uptime_sets[8]),\r\n",
    "    9: ice_parser(uptime_sets[9]),\r\n",
    "}\r\n",
    "uptime_tot_dic = {}\r\n",
    "for year in range(10):\r\n",
    "    uptime_tot_dic[year] = np.sum(np.diff(uptime_dic[year])) * days"
   ],
   "outputs": [],
   "metadata": {}
  },
  {
   "cell_type": "code",
   "execution_count": 14,
   "source": [
    "uptime_tot_dic[0] / days"
   ],
   "outputs": [
    {
     "output_type": "execute_result",
     "data": {
      "text/plain": [
       "376.3603109101532"
      ]
     },
     "metadata": {},
     "execution_count": 14
    }
   ],
   "metadata": {}
  },
  {
   "cell_type": "code",
   "execution_count": 15,
   "source": [
    "# Loading smearing\r\n",
    "# log10(E_nu/GeV)_min, log10(E_nu/GeV)_max, Dec_nu_min[deg], Dec_nu_max[deg], log10(E/GeV), PSF_min[deg], PSF_max[deg],\r\n",
    "# AngErr_min[deg], AngErr_max[deg], Fractional_Counts\r\n",
    "smearing_sets = [\r\n",
    "    '../data/icecube_10year_ps/irfs/IC40_smearing.csv',\r\n",
    "    '../data/icecube_10year_ps/irfs/IC59_smearing.csv',\r\n",
    "    '../data/icecube_10year_ps/irfs/IC79_smearing.csv',\r\n",
    "    '../data/icecube_10year_ps/irfs/IC86_I_smearing.csv',\r\n",
    "    '../data/icecube_10year_ps/irfs/IC86_II_smearing.csv',\r\n",
    "    '../data/icecube_10year_ps/irfs/IC86_II_smearing.csv',\r\n",
    "    '../data/icecube_10year_ps/irfs/IC86_II_smearing.csv',\r\n",
    "    '../data/icecube_10year_ps/irfs/IC86_II_smearing.csv',\r\n",
    "    '../data/icecube_10year_ps/irfs/IC86_II_smearing.csv',\r\n",
    "    '../data/icecube_10year_ps/irfs/IC86_II_smearing.csv',\r\n",
    "]\r\n",
    "smearing_dic = {\r\n",
    "    0: ice_parser(smearing_sets[0]),\r\n",
    "    1: ice_parser(smearing_sets[1]),\r\n",
    "    2: ice_parser(smearing_sets[2]),\r\n",
    "    3: ice_parser(smearing_sets[3]),\r\n",
    "    4: ice_parser(smearing_sets[4]),\r\n",
    "    5: ice_parser(smearing_sets[5]),\r\n",
    "    6: ice_parser(smearing_sets[6]),\r\n",
    "    7: ice_parser(smearing_sets[7]),\r\n",
    "    8: ice_parser(smearing_sets[8]),\r\n",
    "    9: ice_parser(smearing_sets[9]),\r\n",
    "}"
   ],
   "outputs": [],
   "metadata": {}
  },
  {
   "cell_type": "code",
   "execution_count": 36,
   "source": [
    "# Loading simulation results\r\n",
    "surface_fluxes = pickle.load(open(\"../data/surf_store_v1.p\", \"rb\"))\r\n",
    "# Adding 90 deg\r\n",
    "surface_fluxes[90] = surface_fluxes[89]\r\n",
    "surface_fluxes.keys()"
   ],
   "outputs": [
    {
     "output_type": "execute_result",
     "data": {
      "text/plain": [
       "dict_keys([0, 1, 2, 3, 4, 5, 6, 7, 8, 9, 10, 11, 12, 13, 14, 15, 16, 17, 18, 19, 20, 21, 22, 23, 24, 25, 26, 27, 28, 29, 30, 31, 32, 33, 34, 35, 36, 37, 38, 39, 40, 41, 42, 43, 44, 45, 46, 47, 48, 49, 50, 51, 52, 53, 54, 55, 56, 57, 58, 59, 60, 61, 62, 63, 64, 65, 66, 67, 68, 69, 70, 71, 72, 73, 74, 75, 76, 77, 78, 79, 80, 81, 82, 83, 84, 85, 86, 87, 88, 89, 90])"
      ]
     },
     "metadata": {},
     "execution_count": 36
    }
   ],
   "metadata": {}
  },
  {
   "cell_type": "code",
   "execution_count": 17,
   "source": [
    "# Astro\r\n",
    "def astro_flux(E):\r\n",
    "    # From IceCube data\r\n",
    "    # res = 1.44 * (E / 1e5)**(-2.28) * 1e-18\r\n",
    "    # res = 1.66 * (E / 1e5)**(-2.53) * 1e-18\r\n",
    "    res = 1.66 * (E / 1e5)**(-2.6) * 1e-18  # Custom\r\n",
    "    return res"
   ],
   "outputs": [],
   "metadata": {}
  },
  {
   "cell_type": "code",
   "execution_count": 18,
   "source": [
    "def smearing_function(true_e, true_dec, year):\r\n",
    "    # Returns the smeared reconstructed values\r\n",
    "    e_test = true_e\r\n",
    "    angle_test = true_dec\r\n",
    "    local_smearing = smearing_dic[year]\r\n",
    "    cross_check_smear_egrid = (local_smearing[:, 1] + local_smearing[:, 0])/2.\r\n",
    "    idE = np.abs(cross_check_smear_egrid - e_test).argmin()\r\n",
    "    all_near_e = (np.where(cross_check_smear_egrid == cross_check_smear_egrid[idE])[0])\r\n",
    "    cross_check_smear_theta = (local_smearing[:, 2] + local_smearing[:, 3])/2.\r\n",
    "    idtheta = np.abs(cross_check_smear_theta - angle_test).argmin()\r\n",
    "    all_near_theta = (np.where(cross_check_smear_theta == cross_check_smear_theta[idtheta])[0])\r\n",
    "    elements_of_interest = np.intersect1d(all_near_e, all_near_theta)\r\n",
    "    tmp_local_smearing = local_smearing[elements_of_interest]\r\n",
    "    smearing_e_grid = np.unique(tmp_local_smearing[:, 4])\r\n",
    "    smearing_fraction = []\r\n",
    "    for smearing_e_loop in smearing_e_grid:\r\n",
    "        idE = np.abs(tmp_local_smearing[:, 4] - smearing_e_loop).argmin()\r\n",
    "        all_near_e = (np.where(tmp_local_smearing[:, 4] == tmp_local_smearing[:, 4][idE])[0])\r\n",
    "        smearing_fraction.append(np.sum(tmp_local_smearing[all_near_e][:, -1]))\r\n",
    "    # Normalizing\r\n",
    "    smearing_fraction = np.array(smearing_fraction) / np.trapz(smearing_fraction, x=smearing_e_grid)\r\n",
    "    return smearing_e_grid, smearing_fraction"
   ],
   "outputs": [],
   "metadata": {}
  },
  {
   "cell_type": "code",
   "execution_count": 19,
   "source": [
    "# Test smearing\r\n",
    "smearing_e_test, smearing_test = smearing_function(5., 0., 0)"
   ],
   "outputs": [],
   "metadata": {}
  },
  {
   "cell_type": "code",
   "execution_count": 20,
   "source": [
    "plt.plot(smearing_e_test, smearing_test)"
   ],
   "outputs": [
    {
     "output_type": "execute_result",
     "data": {
      "text/plain": [
       "[<matplotlib.lines.Line2D at 0x1f7e4436220>]"
      ]
     },
     "metadata": {},
     "execution_count": 20
    },
    {
     "output_type": "display_data",
     "data": {
      "text/plain": [
       "<Figure size 432x288 with 1 Axes>"
      ],
      "image/png": "[encoded data removed]"
     },
     "metadata": {
      "needs_background": "light"
     }
    }
   ],
   "metadata": {}
  },
  {
   "cell_type": "code",
   "execution_count": 34,
   "source": [
    "def effective_area_func(surface_fluxes, year):\r\n",
    "    # Apply the effective area to the simulation and return unsmeared counts\r\n",
    "    cross_check_egrid = (eff_dic[year][:, 1] + eff_dic[year][:, 0])/2.\r\n",
    "    cross_check_theta = (eff_dic[year][:, 2] + eff_dic[year][:, 3])/2.\r\n",
    "    particle_counts = []\r\n",
    "    astro_counts = []\r\n",
    "    for theta in list(surface_fluxes.keys()):\r\n",
    "        surf_counts = surface_fluxes[0][-1]  # should only need to multiply with fluxes\r\n",
    "        m_egrid = surface_fluxes[0][0]\r\n",
    "        eff_areas = []\r\n",
    "        check_angle = (theta)\r\n",
    "        for energy in m_egrid:\r\n",
    "            if energy < 1e1:\r\n",
    "                eff_areas.append(0.)\r\n",
    "            else:\r\n",
    "                loge = np.log10(energy)\r\n",
    "                idE = np.abs(cross_check_egrid - loge).argmin()\r\n",
    "                all_near = (np.where(cross_check_egrid == cross_check_egrid[idE])[0])\r\n",
    "                idTheta = np.abs(cross_check_theta[all_near] - check_angle).argmin()\r\n",
    "                eff_areas.append(eff_dic[year][all_near, -1][idTheta])\r\n",
    "        loc_eff_area = np.array(eff_areas)\r\n",
    "        unsmeared_atmos_counts = surf_counts * loc_eff_area * uptime_tot_dic[year] * surface_fluxes[theta][1] * 2. * np.pi\r\n",
    "        unsmeared_astro_counts = (\r\n",
    "            astro_flux(m_egrid) * loc_eff_area * surface_fluxes[theta][1] * uptime_tot_dic[year] * 2. * np.pi\r\n",
    "        )\r\n",
    "        particle_counts.append(unsmeared_atmos_counts)\r\n",
    "        astro_counts.append(unsmeared_astro_counts)\r\n",
    "    return np.array(particle_counts), np.array(astro_counts), m_egrid"
   ],
   "outputs": [],
   "metadata": {}
  },
  {
   "cell_type": "code",
   "execution_count": 35,
   "source": [
    "# Checking eff area\r\n",
    "check_year = 8\r\n",
    "particle_counts, astro_counts, m_egrid = effective_area_func(surface_fluxes, check_year)\r\n",
    "particle_counts = np.trapz(particle_counts, x=list(surface_fluxes.keys()), axis=0)\r\n",
    "astro_counts = np.trapz(astro_counts, x=list(surface_fluxes.keys()), axis=0)\r\n",
    "plt.step(np.log10(m_egrid), particle_counts, color='b')\r\n",
    "plt.step(np.log10(m_egrid), astro_counts, color='g')\r\n",
    "plt.step(np.log10(m_egrid), (astro_counts + particle_counts), color='k')\r\n",
    "plt.xlim(2., 7.)\r\n",
    "plt.ylim(1e-2, 1e4)\r\n",
    "plt.semilogy()"
   ],
   "outputs": [
    {
     "output_type": "execute_result",
     "data": {
      "text/plain": [
       "[]"
      ]
     },
     "metadata": {},
     "execution_count": 35
    },
    {
     "output_type": "display_data",
     "data": {
      "text/plain": [
       "<Figure size 432x288 with 1 Axes>"
      ],
      "image/png": "[encoded data removed]"
     },
     "metadata": {
      "needs_background": "light"
     }
    }
   ],
   "metadata": {}
  },
  {
   "cell_type": "code",
   "execution_count": 37,
   "source": [
    "def sim_to_dec(surface_fluxes, year):\r\n",
    "    # Converts simulation data to detector data\r\n",
    "    atmos_counts_unsmeared, astro_counts_unsmeared, m_egrid = effective_area_func(surface_fluxes, year)\r\n",
    "    log_egrid = np.log10(m_egrid)\r\n",
    "    smeared_atmos = []\r\n",
    "    smeared_astro = []\r\n",
    "    for id_theta, theta in tqdm(enumerate(list(surface_fluxes.keys()))):\r\n",
    "        check_angle = (theta)\r\n",
    "        smeared_atmos_loc = []\r\n",
    "        smeared_astro_loc = []\r\n",
    "        int_grid = []\r\n",
    "        for id_check in range(len(log_egrid)):\r\n",
    "            smearing_e, smearing = smearing_function(log_egrid[id_check], check_angle, year)\r\n",
    "            if len(smearing) < 3:\r\n",
    "                continue\r\n",
    "            atmos_spl = UnivariateSpline(smearing_e, smearing * atmos_counts_unsmeared[id_theta][id_check],\r\n",
    "                                         k=1, s=0, ext=1)\r\n",
    "            astro_spl = UnivariateSpline(smearing_e, smearing * astro_counts_unsmeared[id_theta][id_check],\r\n",
    "                                         k=1, s=0, ext=1)\r\n",
    "            smeared_atmos_loc.append(atmos_spl(log_egrid))\r\n",
    "            smeared_astro_loc.append(astro_spl(log_egrid))\r\n",
    "            int_grid.append(log_egrid[id_check])\r\n",
    "        smeared_atmos.append(np.trapz(smeared_atmos_loc, x=int_grid, axis=0))\r\n",
    "        smeared_astro.append(np.trapz(smeared_astro_loc, x=int_grid, axis=0))\r\n",
    "    return np.array(smeared_atmos), np.array(smeared_astro), m_egrid"
   ],
   "outputs": [],
   "metadata": {}
  },
  {
   "cell_type": "code",
   "execution_count": 38,
   "source": [
    "def data_filter(event_dic, energy_range, angle_range, years):\r\n",
    "    # filters the data in energy and angle\r\n",
    "    filtered_dic = {}\r\n",
    "    for year in years:\r\n",
    "        # where method is faster as basic slicing\r\n",
    "        energy_filter_1 = event_dic[year][np.where(event_dic[year][:, 1] < energy_range[1])]\r\n",
    "        energy_filter_2 = energy_filter_1[np.where(energy_filter_1[:, 1] > energy_range[0])]\r\n",
    "        high_angle = angle_range[1]\r\n",
    "        angle_filter_1 = energy_filter_2[np.where(energy_filter_2[:, 4] < high_angle)]\r\n",
    "        low_angle = angle_range[0]\r\n",
    "        angle_filter_2 = angle_filter_1[np.where(angle_filter_1[:, 4] > low_angle)]\r\n",
    "        filtered_dic[year] = angle_filter_2\r\n",
    "    return filtered_dic"
   ],
   "outputs": [],
   "metadata": {}
  },
  {
   "cell_type": "code",
   "execution_count": 39,
   "source": [
    "# Totals\r\n",
    "# Smeared\r\n",
    "atmos_all = {}\r\n",
    "astro_all = {}\r\n",
    "for year in range(10):\r\n",
    "    particle_counts_smeared_unin, astro_counts_smeared_unin, m_egrid_smeared = sim_to_dec(surface_fluxes, year)\r\n",
    "    particle_counts_smeared = np.trapz(particle_counts_smeared_unin, x=list(surface_fluxes.keys()), axis=0)\r\n",
    "    astro_counts_smeared = np.trapz(astro_counts_smeared_unin, x=list(surface_fluxes.keys()), axis=0)\r\n",
    "    atmos_all[year] = particle_counts_smeared\r\n",
    "    astro_all[year] = astro_counts_smeared"
   ],
   "outputs": [
    {
     "output_type": "stream",
     "name": "stderr",
     "text": [
      "91it [04:20,  2.86s/it]\n",
      "91it [03:54,  2.58s/it]\n",
      "91it [06:21,  4.19s/it]\n",
      "91it [07:35,  5.01s/it]\n",
      "91it [07:38,  5.04s/it]\n",
      "91it [07:35,  5.00s/it]\n",
      "91it [07:44,  5.11s/it]\n",
      "91it [08:10,  5.39s/it]\n",
      "91it [08:07,  5.36s/it]\n",
      "91it [06:32,  4.32s/it]\n"
     ]
    }
   ],
   "metadata": {}
  },
  {
   "cell_type": "code",
   "execution_count": 61,
   "source": [
    "filtered_data = data_filter(event_dic, [0., 9.], [0., 90.], [0, 1, 2, 3, 4, 5, 6, 7, 8, 9])\r\n",
    "total_data, _ = np.histogram(filtered_data[0][:, 1], bins=np.log10(surface_fluxes[85][2]))\r\n",
    "total_atmos = atmos_all[0]\r\n",
    "total_astro = astro_all[0]\r\n",
    "for year in range(10):\r\n",
    "    if year == 0:\r\n",
    "        continue\r\n",
    "    tmp, _ = np.histogram(filtered_data[year][:, 1], bins=np.log10(surface_fluxes[85][2]))\r\n",
    "    total_data += tmp\r\n",
    "    total_atmos += atmos_all[year]\r\n",
    "    total_astro += astro_all[year]"
   ],
   "outputs": [],
   "metadata": {}
  },
  {
   "cell_type": "code",
   "execution_count": 62,
   "source": [
    "total_data"
   ],
   "outputs": [
    {
     "output_type": "execute_result",
     "data": {
      "text/plain": [
       "array([     0,      0,      0,      0,      0,      0,      0,      0,\n",
       "            0,      0,      0,      0,      0,      0,      0,      0,\n",
       "            0,      0,      0,      0,      0,      2,      8,     24,\n",
       "           41,     44,     89,    151,    206,    277,    276,    456,\n",
       "          504,    723,   1740,   3249,  10292,  21360,  60561,  99077,\n",
       "       103815, 112086,  69677,  62601,  40817,  25535,  19922,  10106,\n",
       "         8059,   4843,   2903,   2408,   1368,   1163,    635,    479,\n",
       "          371,    240,    180,    109,     73,     63,     24,     22,\n",
       "           13,     10,     10,      3,      2,      1,      1,      1,\n",
       "            0,      1,      0,      0,      0,      0,      0,      0,\n",
       "            0,      0,      0,      0,      0,      0,      0,      0,\n",
       "            0,      0,      0,      0,      0,      0,      0,      0,\n",
       "            0,      0,      0,      0,      0,      0,      0,      0,\n",
       "            0,      0,      0,      0,      0,      0,      0,      0,\n",
       "            0,      0,      0,      0,      0,      0,      0,      0,\n",
       "            0], dtype=int64)"
      ]
     },
     "metadata": {},
     "execution_count": 62
    }
   ],
   "metadata": {}
  },
  {
   "cell_type": "code",
   "execution_count": 85,
   "source": [
    "# Fitting\r\n",
    "fit_range_low = 31\r\n",
    "fit_range_high = 71\r\n",
    "def background_fit(norm_atmos, norm_astro, shift_atmos, shift_astro):\r\n",
    "    spl_atmos = UnivariateSpline(np.log10(m_egrid) + shift_atmos,\r\n",
    "                                 total_atmos * norm_atmos, k=1, s=0)\r\n",
    "    spl_astro = UnivariateSpline(np.log10(m_egrid) + shift_astro,\r\n",
    "                                 total_astro * norm_astro, k=1, s=0)\r\n",
    "    return np.abs(spl_atmos(np.log10(m_egrid)) + spl_astro(np.log10(m_egrid)))\r\n",
    "sigma_y = np.ones_like(m_egrid)[fit_range_low:fit_range_high] * 0.2\r\n",
    "def LSQ(norm_atmos, norm_astro, shift_atmos, shift_astro):\r\n",
    "    ym = background_fit(norm_atmos, norm_astro, shift_atmos, shift_astro)[fit_range_low:fit_range_high]\r\n",
    "    res = np.sum((np.log10(total_data[fit_range_low:fit_range_high]+1) -\r\n",
    "                  np.log10(ym+1)) ** 2 / sigma_y ** 2)\r\n",
    "    return res\r\n",
    "m = Minuit(LSQ, 0.5, 0.5, 0.1, 0.1)\r\n",
    "m.limits['norm_atmos'] = (0.5, 100.)\r\n",
    "m.limits['norm_astro'] = (0.9, 1.1)\r\n",
    "m.limits['shift_atmos'] = (-1, 1.)\r\n",
    "m.limits['shift_astro'] = (-0.1, 0.1)\r\n",
    "m.migrad()"
   ],
   "outputs": [
    {
     "output_type": "stream",
     "name": "stderr",
     "text": [
      "C:\\Users\\steph\\AppData\\Local\\Temp/ipykernel_17752/95277340.py:21: IMinuitWarning: errordef not set, using 1 (appropriate for least-squares)\n",
      "  m.migrad()\n"
     ]
    },
    {
     "output_type": "execute_result",
     "data": {
      "text/plain": [
       "┌─────────────────────────────────────────────────────────────────────────┐\n",
       "│                                Migrad                                   │\n",
       "├──────────────────────────────────┬──────────────────────────────────────┤\n",
       "│ FCN = 601.1                      │              Nfcn = 74               │\n",
       "│ EDM = 1.14e-06 (Goal: 0.0002)    │                                      │\n",
       "├──────────────────────────────────┼──────────────────────────────────────┤\n",
       "│          Valid Minimum           │       SOME Parameters at limit       │\n",
       "├──────────────────────────────────┼──────────────────────────────────────┤\n",
       "│ Below EDM threshold (goal x 10)  │           Below call limit           │\n",
       "├───────────────┬──────────────────┼───────────┬─────────────┬────────────┤\n",
       "│  Covariance   │     Hesse ok     │ Accurate  │  Pos. def.  │ Not forced │\n",
       "└───────────────┴──────────────────┴───────────┴─────────────┴────────────┘\n",
       "┌───┬─────────────┬───────────┬───────────┬────────────┬────────────┬─────────┬─────────┬───────┐\n",
       "│   │ Name        │   Value   │ Hesse Err │ Minos Err- │ Minos Err+ │ Limit-  │ Limit+  │ Fixed │\n",
       "├───┼─────────────┼───────────┼───────────┼────────────┼────────────┼─────────┼─────────┼───────┤\n",
       "│ 0 │ norm_atmos  │  0.5000   │  0.0011   │            │            │   0.5   │   100   │       │\n",
       "│ 1 │ norm_astro  │   0.90    │   0.17    │            │            │   0.9   │   1.1   │       │\n",
       "│ 2 │ shift_atmos │ 100.00e-3 │  0.04e-3  │            │            │   -1    │    1    │       │\n",
       "│ 3 │ shift_astro │   0.07    │   0.16    │            │            │  -0.1   │   0.1   │       │\n",
       "└───┴─────────────┴───────────┴───────────┴────────────┴────────────┴─────────┴─────────┴───────┘\n",
       "┌─────────────┬─────────────────────────────────────────────────┐\n",
       "│             │  norm_atmos  norm_astro shift_atmos shift_astro │\n",
       "├─────────────┼─────────────────────────────────────────────────┤\n",
       "│  norm_atmos │    1.11e-14    3.42e-23    1.71e-18    8.66e-13 │\n",
       "│  norm_astro │    3.42e-23    2.16e-16    1.06e-18    1.33e-11 │\n",
       "│ shift_atmos │    1.71e-18    1.06e-18     1.9e-09   -3.68e-09 │\n",
       "│ shift_astro │    8.66e-13    1.33e-11   -3.68e-09     0.00777 │\n",
       "└─────────────┴─────────────────────────────────────────────────┘"
      ],
      "text/html": [
       "<table>\n",
       "    <tr>\n",
       "        <th colspan=\"5\" style=\"text-align:center\" title=\"Minimizer\"> Migrad </th>\n",
       "    </tr>\n",
       "    <tr>\n",
       "        <td colspan=\"2\" style=\"text-align:left\" title=\"Minimum value of function\"> FCN = 601.1 </td>\n",
       "        <td colspan=\"3\" style=\"text-align:center\" title=\"No. of function evaluations in last call and total number\"> Nfcn = 74 </td>\n",
       "    </tr>\n",
       "    <tr>\n",
       "        <td colspan=\"2\" style=\"text-align:left\" title=\"Estimated distance to minimum and goal\"> EDM = 1.14e-06 (Goal: 0.0002) </td>\n",
       "        <td colspan=\"3\" style=\"text-align:center\" title=\"No. of gradient evaluations in last call and total number\">  </td>\n",
       "    </tr>\n",
       "    <tr>\n",
       "        <td colspan=\"2\" style=\"text-align:center;background-color:#92CCA6;color:black\"> Valid Minimum </td>\n",
       "        <td colspan=\"3\" style=\"text-align:center;background-color:#FFF79A;color:black\"> SOME Parameters at limit </td>\n",
       "    </tr>\n",
       "    <tr>\n",
       "        <td colspan=\"2\" style=\"text-align:center;background-color:#92CCA6;color:black\"> Below EDM threshold (goal x 10) </td>\n",
       "        <td colspan=\"3\" style=\"text-align:center;background-color:#92CCA6;color:black\"> Below call limit </td>\n",
       "    </tr>\n",
       "    <tr>\n",
       "        <td style=\"text-align:center;background-color:#92CCA6;color:black\"> Covariance </td>\n",
       "        <td style=\"text-align:center;background-color:#92CCA6;color:black\"> Hesse ok </td>\n",
       "        <td style=\"text-align:center;background-color:#92CCA6;color:black\" title=\"Is covariance matrix accurate?\"> Accurate </td>\n",
       "        <td style=\"text-align:center;background-color:#92CCA6;color:black\" title=\"Is covariance matrix positive definite?\"> Pos. def. </td>\n",
       "        <td style=\"text-align:center;background-color:#92CCA6;color:black\" title=\"Was positive definiteness enforced by Minuit?\"> Not forced </td>\n",
       "    </tr>\n",
       "</table><table>\n",
       "    <tr>\n",
       "        <td></td>\n",
       "        <th title=\"Variable name\"> Name </th>\n",
       "        <th title=\"Value of parameter\"> Value </th>\n",
       "        <th title=\"Hesse error\"> Hesse Error </th>\n",
       "        <th title=\"Minos lower error\"> Minos Error- </th>\n",
       "        <th title=\"Minos upper error\"> Minos Error+ </th>\n",
       "        <th title=\"Lower limit of the parameter\"> Limit- </th>\n",
       "        <th title=\"Upper limit of the parameter\"> Limit+ </th>\n",
       "        <th title=\"Is the parameter fixed in the fit\"> Fixed </th>\n",
       "    </tr>\n",
       "    <tr>\n",
       "        <th> 0 </th>\n",
       "        <td> norm_atmos </td>\n",
       "        <td> 0.5000 </td>\n",
       "        <td> 0.0011 </td>\n",
       "        <td>  </td>\n",
       "        <td>  </td>\n",
       "        <td> 0.5 </td>\n",
       "        <td> 100 </td>\n",
       "        <td>  </td>\n",
       "    </tr>\n",
       "    <tr>\n",
       "        <th> 1 </th>\n",
       "        <td> norm_astro </td>\n",
       "        <td> 0.90 </td>\n",
       "        <td> 0.17 </td>\n",
       "        <td>  </td>\n",
       "        <td>  </td>\n",
       "        <td> 0.9 </td>\n",
       "        <td> 1.1 </td>\n",
       "        <td>  </td>\n",
       "    </tr>\n",
       "    <tr>\n",
       "        <th> 2 </th>\n",
       "        <td> shift_atmos </td>\n",
       "        <td> 100.00e-3 </td>\n",
       "        <td> 0.04e-3 </td>\n",
       "        <td>  </td>\n",
       "        <td>  </td>\n",
       "        <td> -1 </td>\n",
       "        <td> 1 </td>\n",
       "        <td>  </td>\n",
       "    </tr>\n",
       "    <tr>\n",
       "        <th> 3 </th>\n",
       "        <td> shift_astro </td>\n",
       "        <td> 0.07 </td>\n",
       "        <td> 0.16 </td>\n",
       "        <td>  </td>\n",
       "        <td>  </td>\n",
       "        <td> -0.1 </td>\n",
       "        <td> 0.1 </td>\n",
       "        <td>  </td>\n",
       "    </tr>\n",
       "</table><table>\n",
       "    <tr>\n",
       "        <td></td>\n",
       "        <th> norm_atmos </th>\n",
       "        <th> norm_astro </th>\n",
       "        <th> shift_atmos </th>\n",
       "        <th> shift_astro </th>\n",
       "    </tr>\n",
       "    <tr>\n",
       "        <th> norm_atmos </th>\n",
       "        <td> 1.11e-14 </td>\n",
       "        <td style=\"background-color:rgb(250,250,250);color:black\"> 3.42e-23 </td>\n",
       "        <td style=\"background-color:rgb(250,250,250);color:black\"> 1.71e-18 </td>\n",
       "        <td style=\"background-color:rgb(250,250,250);color:black\"> 8.66e-13 </td>\n",
       "    </tr>\n",
       "    <tr>\n",
       "        <th> norm_astro </th>\n",
       "        <td style=\"background-color:rgb(250,250,250);color:black\"> 3.42e-23 </td>\n",
       "        <td> 2.16e-16 </td>\n",
       "        <td style=\"background-color:rgb(250,250,250);color:black\"> 1.06e-18 </td>\n",
       "        <td style=\"background-color:rgb(250,248,248);color:black\"> 1.33e-11 <strong>(0.010)</strong> </td>\n",
       "    </tr>\n",
       "    <tr>\n",
       "        <th> shift_atmos </th>\n",
       "        <td style=\"background-color:rgb(250,250,250);color:black\"> 1.71e-18 </td>\n",
       "        <td style=\"background-color:rgb(250,250,250);color:black\"> 1.06e-18 </td>\n",
       "        <td> 1.9e-09 </td>\n",
       "        <td style=\"background-color:rgb(250,250,250);color:black\"> -3.68e-09 </td>\n",
       "    </tr>\n",
       "    <tr>\n",
       "        <th> shift_astro </th>\n",
       "        <td style=\"background-color:rgb(250,250,250);color:black\"> 8.66e-13 </td>\n",
       "        <td style=\"background-color:rgb(250,248,248);color:black\"> 1.33e-11 <strong>(0.010)</strong> </td>\n",
       "        <td style=\"background-color:rgb(250,250,250);color:black\"> -3.68e-09 </td>\n",
       "        <td> 0.00777 </td>\n",
       "    </tr>\n",
       "</table>"
      ]
     },
     "metadata": {},
     "execution_count": 85
    }
   ],
   "metadata": {}
  },
  {
   "cell_type": "code",
   "execution_count": 91,
   "source": [
    "# Zoomed\r\n",
    "fig, ax = plt.subplots(1, 1,\r\n",
    "                       figsize=(std_size, std_size * 6. / 8.),\r\n",
    "                       sharex=True,\r\n",
    "                       gridspec_kw={'hspace': 0})\r\n",
    "ax.errorbar(np.log10(m_egrid), total_data, yerr=np.sqrt(total_data), color='r', ls='none',\r\n",
    "            fmt='o', markersize=5, label=r'$\\mathrm{Data}$', capsize=5, elinewidth=1)\r\n",
    "spl_atmos = UnivariateSpline(np.log10(m_egrid) + m.values[2],\r\n",
    "                             total_atmos * m.values[0], k=1, s=0)\r\n",
    "spl_astro = UnivariateSpline(np.log10(m_egrid) + m.values[3],\r\n",
    "                             total_astro * m.values[1], k=1, s=0)\r\n",
    "# spl_astro = UnivariateSpline(np.log10(m_egrid),\r\n",
    "#                              total_astro, k=1, s=0)\r\n",
    "ax.step(np.log10(m_egrid), spl_atmos(np.log10(m_egrid)), color='b',\r\n",
    "        where='mid', label=r'$\\mathrm{Atmos}$')\r\n",
    "ax.step(np.log10(m_egrid), spl_astro(np.log10(m_egrid)), color='g', where='mid', label=r'$\\mathrm{Astro}$')\r\n",
    "ax.step(np.log10(m_egrid), spl_atmos(np.log10(m_egrid)) + spl_astro(np.log10(m_egrid)), color='k',\r\n",
    "        where='mid', label=r'$\\mathrm{Total}$')\r\n",
    "ax.set_xscale('linear')\r\n",
    "ax.set_yscale('log')\r\n",
    "ax.set_xlabel(r'$E_\\mathrm{reco}\\;\\left[\\mathrm{{GeV}}\\right]$',\r\n",
    "              fontsize=fontsize)\r\n",
    "ax.set_ylabel(r'$\\mathrm{Counts},\\;\\theta\\in \\left[90^\\circ, 180^\\circ\\right]$',\r\n",
    "              fontsize=fontsize)\r\n",
    "ax.tick_params(axis = 'both', which = 'major', labelsize=fontsize, direction='in')\r\n",
    "ax.tick_params(axis = 'both', which = 'minor', labelsize=fontsize, direction='in')\r\n",
    "ax.set_xlim(4, 6.5)\r\n",
    "ax.set_ylim(1e0, 1e3)\r\n",
    "h, l = ax.get_legend_handles_labels()\r\n",
    "lgd1 = ax.legend(h,l, loc=9, bbox_to_anchor=(0.65, +1.05),\r\n",
    "                 ncol=2, fontsize=fontsize, handlelength=h_length,\r\n",
    "                 fancybox=True, frameon=False)\r\n",
    "ax.add_artist(lgd1)\r\n",
    "plt.show()\r\n",
    "fig.savefig(\"..\\\\pics\\\\Zoomed_Data_benchmark.png\",\r\n",
    "            bbox_inches='tight')\r\n",
    "# Not zoomed\r\n",
    "fig, ax = plt.subplots(1, 1,\r\n",
    "                       figsize=(std_size, std_size * 6. / 8.),\r\n",
    "                       sharex=True,\r\n",
    "                       gridspec_kw={'hspace': 0})\r\n",
    "ax.errorbar(np.log10(m_egrid), total_data, yerr=np.sqrt(total_data), color='r', ls='none',\r\n",
    "            fmt='o', markersize=5, label=r'$\\mathrm{Data}$', capsize=5, elinewidth=1)\r\n",
    "ax.step(np.log10(m_egrid), spl_atmos(np.log10(m_egrid)), color='b',\r\n",
    "        where='mid', label=r'$\\mathrm{Atmos}$')\r\n",
    "ax.step(np.log10(m_egrid), spl_astro(np.log10(m_egrid)), color='g', where='mid', label=r'$\\mathrm{Astro}$')\r\n",
    "ax.step(np.log10(m_egrid), spl_atmos(np.log10(m_egrid)) + spl_astro(np.log10(m_egrid)), color='k',\r\n",
    "        where='mid', label=r'$\\mathrm{Total}$')\r\n",
    "ax.set_xscale('linear')\r\n",
    "ax.set_yscale('log')\r\n",
    "ax.set_xlabel(r'$E_\\mathrm{reco}\\;\\left[\\mathrm{{GeV}}\\right]$',\r\n",
    "              fontsize=fontsize)\r\n",
    "ax.set_ylabel(r'$\\mathrm{Counts},\\;\\theta\\in \\left[90^\\circ, 180^\\circ\\right]$',\r\n",
    "              fontsize=fontsize)\r\n",
    "ax.tick_params(axis = 'both', which = 'major', labelsize=fontsize, direction='in')\r\n",
    "ax.tick_params(axis = 'both', which = 'minor', labelsize=fontsize, direction='in')\r\n",
    "ax.set_xlim(2, 6.5)\r\n",
    "ax.set_ylim(1e0, 1e7)\r\n",
    "h, l = ax.get_legend_handles_labels()\r\n",
    "lgd1 = ax.legend(h,l, loc=9, bbox_to_anchor=(0.65, +1.05),\r\n",
    "                 ncol=2, fontsize=fontsize, handlelength=h_length,\r\n",
    "                 fancybox=True, frameon=False)\r\n",
    "ax.add_artist(lgd1)\r\n",
    "plt.show()\r\n",
    "fig.savefig(\"..\\\\pics\\\\Data_benchmark.png\",\r\n",
    "            bbox_inches='tight')"
   ],
   "outputs": [
    {
     "output_type": "display_data",
     "data": {
      "text/plain": [
       "<Figure size 432x324 with 1 Axes>"
      ],
      "image/png": "[encoded data removed]"
     },
     "metadata": {
      "needs_background": "light"
     }
    },
    {
     "output_type": "display_data",
     "data": {
      "text/plain": [
       "<Figure size 432x324 with 1 Axes>"
      ],
      "image/png": "[encoded data removed]"
     },
     "metadata": {
      "needs_background": "light"
     }
    }
   ],
   "metadata": {}
  },
  {
   "cell_type": "code",
   "execution_count": 93,
   "source": [
    "pickle.dump([np.log10(m_egrid), total_data,\r\n",
    "             spl_astro(np.log10(m_egrid)), spl_atmos(np.log10(m_egrid))], open(\"..\\\\data\\\\simulated_data_bkgrd_store_bckgrd_benchmark.p\", \"wb\"))"
   ],
   "outputs": [],
   "metadata": {}
  },
  {
   "cell_type": "code",
   "execution_count": 94,
   "source": [
    "np.sum(spl_astro(np.log10(m_egrid)))"
   ],
   "outputs": [
    {
     "output_type": "execute_result",
     "data": {
      "text/plain": [
       "40094.2888749273"
      ]
     },
     "metadata": {},
     "execution_count": 94
    }
   ],
   "metadata": {}
  },
  {
   "cell_type": "code",
   "execution_count": 95,
   "source": [
    "np.sum(total_data)"
   ],
   "outputs": [
    {
     "output_type": "execute_result",
     "data": {
      "text/plain": [
       "666621"
      ]
     },
     "metadata": {},
     "execution_count": 95
    }
   ],
   "metadata": {}
  },
  {
   "cell_type": "code",
   "execution_count": 96,
   "source": [
    "np.sum(spl_astro(np.log10(m_egrid))) / np.sum(total_data)"
   ],
   "outputs": [
    {
     "output_type": "execute_result",
     "data": {
      "text/plain": [
       "0.060145553282790816"
      ]
     },
     "metadata": {},
     "execution_count": 96
    }
   ],
   "metadata": {}
  },
  {
   "cell_type": "code",
   "execution_count": null,
   "source": [],
   "outputs": [],
   "metadata": {}
  }
 ],
 "metadata": {
  "kernelspec": {
   "name": "python3",
   "display_name": "Python 3.9.6 64-bit ('dmpoint': conda)"
  },
  "language_info": {
   "name": "python",
   "version": "3.9.6",
   "mimetype": "text/x-python",
   "codemirror_mode": {
    "name": "ipython",
    "version": 3
   },
   "pygments_lexer": "ipython3",
   "nbconvert_exporter": "python",
   "file_extension": ".py"
  },
  "interpreter": {
   "hash": "4c84b7d67a412213c96e521414babcbf2d5fbeeae9e91be6e9510e631c1f41fd"
  }
 },
 "nbformat": 4,
 "nbformat_minor": 4
}