{
 "cells": [
  {
   "cell_type": "code",
   "execution_count": 1,
   "metadata": {},
   "outputs": [],
   "source": [
    "# line_injection.ipynb\n",
    "# Authors: Stephan Meighen-Berger\n",
    "# uses the weights to calculate a fit"
   ]
  },
  {
   "cell_type": "code",
   "execution_count": 1,
   "metadata": {},
   "outputs": [],
   "source": [
    "# Imports\n",
    "import numpy as np\n",
    "import matplotlib.pyplot as plt\n",
    "import pickle\n",
    "from tqdm import tqdm\n",
    "import pickle\n",
    "from iminuit import Minuit\n",
    "from scipy.interpolate import UnivariateSpline"
   ]
  },
  {
   "cell_type": "code",
   "execution_count": 2,
   "metadata": {},
   "outputs": [],
   "source": [
    "# picture path\n",
    "PICS = '../pics/'"
   ]
  },
  {
   "cell_type": "code",
   "execution_count": 3,
   "metadata": {},
   "outputs": [],
   "source": [
    "from matplotlib import rc\n",
    "rc('font',**{'family':'sans-serif','sans-serif':['Helvetica']})\n",
    "rc('text', usetex=True)"
   ]
  },
  {
   "cell_type": "code",
   "execution_count": 6,
   "metadata": {},
   "outputs": [],
   "source": [
    "year = 60. * 60. * 24. * 365.\n",
    "km2_to_cm2 = 1e-10\n",
    "egrid = np.logspace(0., 12., 121)"
   ]
  },
  {
   "cell_type": "code",
   "execution_count": 7,
   "metadata": {},
   "outputs": [],
   "source": [
    "# New component\n",
    "new_comp_store = {}\n",
    "data_set_length = 76\n",
    "low_energy_removal = 0\n",
    "for i in range(data_set_length):\n",
    "    if i < low_energy_removal:\n",
    "        continue\n",
    "    else:\n",
    "        temp_new_comp = pickle.load(open(\"../data/injection_lib/simulated_data_inj_store_v2_%d.p\" % i, \"rb\"))\n",
    "        new_comp_store[temp_new_comp[1][i]] = UnivariateSpline(egrid, temp_new_comp[0], k=1, s=0, ext=1)\n",
    "        injection_grid = temp_new_comp[1]\n",
    "injection_grid = injection_grid[low_energy_removal:data_set_length]"
   ]
  },
  {
   "cell_type": "code",
   "execution_count": 8,
   "metadata": {},
   "outputs": [
    {
     "output_type": "execute_result",
     "data": {
      "text/plain": [
       "76"
      ]
     },
     "metadata": {},
     "execution_count": 8
    }
   ],
   "source": [
    "len(injection_grid)"
   ]
  },
  {
   "cell_type": "code",
   "execution_count": 9,
   "metadata": {},
   "outputs": [],
   "source": [
    "# Plotting standards\n",
    "std_size = 3.\n",
    "fontsize = 10.\n",
    "lw=1.\n",
    "h_length=1.\n",
    "mark_s = 20\n",
    "# params\n",
    "mag_fit = 1.\n",
    "colors = ['#fef0d9', '#fdcc8a', '#fc8d59', '#e34a33', '#b30000']\n",
    "alphas = [0.2, 0.4, 0.6, 0.8, 1.]\n",
    "# labels_mass = ['1\\;TeV', '100\\;TeV', '10\\;PeV', '30\\;TeV']\n",
    "linest = ['-', '--', '-.', ':']"
   ]
  },
  {
   "cell_type": "code",
   "execution_count": 10,
   "metadata": {},
   "outputs": [
    {
     "output_type": "error",
     "ename": "KeyError",
     "evalue": "125892.54117941688",
     "traceback": [
      "\u001b[1;31m---------------------------------------------------------------------------\u001b[0m",
      "\u001b[1;31mKeyError\u001b[0m                                  Traceback (most recent call last)",
      "\u001b[1;32m~\\AppData\\Local\\Temp/ipykernel_5932/85635794.py\u001b[0m in \u001b[0;36m<module>\u001b[1;34m\u001b[0m\n\u001b[0;32m      5\u001b[0m                        gridspec_kw={'hspace': 0})\n\u001b[0;32m      6\u001b[0m \u001b[0mid_e\u001b[0m \u001b[1;33m=\u001b[0m \u001b[1;36m51\u001b[0m\u001b[1;33m\u001b[0m\u001b[1;33m\u001b[0m\u001b[0m\n\u001b[1;32m----> 7\u001b[1;33m \u001b[0mcounts\u001b[0m \u001b[1;33m=\u001b[0m \u001b[0mnew_comp_store\u001b[0m\u001b[1;33m[\u001b[0m\u001b[0megrid\u001b[0m\u001b[1;33m[\u001b[0m\u001b[0mid_e\u001b[0m\u001b[1;33m]\u001b[0m\u001b[1;33m]\u001b[0m\u001b[1;33m(\u001b[0m\u001b[0megrid\u001b[0m\u001b[1;33m)\u001b[0m \u001b[1;33m/\u001b[0m \u001b[0mmceq_run_basic\u001b[0m\u001b[1;33m.\u001b[0m\u001b[0m_phi0\u001b[0m\u001b[1;33m[\u001b[0m\u001b[0mmceq_run_basic\u001b[0m\u001b[1;33m.\u001b[0m\u001b[0mpman\u001b[0m\u001b[1;33m[\u001b[0m\u001b[1;36m2212\u001b[0m\u001b[1;33m]\u001b[0m\u001b[1;33m.\u001b[0m\u001b[0mlidx\u001b[0m\u001b[1;33m:\u001b[0m\u001b[0mmceq_run_basic\u001b[0m\u001b[1;33m.\u001b[0m\u001b[0mpman\u001b[0m\u001b[1;33m[\u001b[0m\u001b[1;36m2212\u001b[0m\u001b[1;33m]\u001b[0m\u001b[1;33m.\u001b[0m\u001b[0muidx\u001b[0m\u001b[1;33m]\u001b[0m\u001b[1;33m[\u001b[0m\u001b[0mid_e\u001b[0m\u001b[1;33m]\u001b[0m\u001b[1;33m\u001b[0m\u001b[1;33m\u001b[0m\u001b[0m\n\u001b[0m\u001b[0;32m      8\u001b[0m \u001b[0mnormalized\u001b[0m \u001b[1;33m=\u001b[0m \u001b[0mcounts\u001b[0m \u001b[1;33m/\u001b[0m \u001b[0mnp\u001b[0m\u001b[1;33m.\u001b[0m\u001b[0msum\u001b[0m\u001b[1;33m(\u001b[0m\u001b[0mcounts\u001b[0m\u001b[1;33m)\u001b[0m\u001b[1;33m\u001b[0m\u001b[1;33m\u001b[0m\u001b[0m\n\u001b[0;32m      9\u001b[0m ax.step(np.log10(egrid), normalized, color='purple',\n",
      "\u001b[1;31mKeyError\u001b[0m: 125892.54117941688"
     ]
    }
   ],
   "source": [
    "# Production\n",
    "fig, ax = plt.subplots(1, 1,\n",
    "                       figsize=(std_size, std_size * 6. / 8.),\n",
    "                       sharex=True,\n",
    "                       gridspec_kw={'hspace': 0})\n",
    "id_e = 51\n",
    "counts = new_comp_store[egrid[id_e]](egrid) / mceq_run_basic._phi0[mceq_run_basic.pman[2212].lidx:mceq_run_basic.pman[2212].uidx][id_e]\n",
    "normalized = counts / np.sum(counts)\n",
    "ax.step(np.log10(egrid), normalized, color='purple',\n",
    "        where='mid', label=r'$E_\\mathrm{Prim}=%.e\\;\\mathrm{GeV}$' % egrid[id_e], ls='--', alpha=0.5)\n",
    "id_e = 71\n",
    "counts = new_comp_store[egrid[id_e]](egrid) / mceq_run_basic._phi0[mceq_run_basic.pman[2212].lidx:mceq_run_basic.pman[2212].uidx][id_e]\n",
    "normalized = counts / np.sum(counts)\n",
    "ax.step(np.log10(egrid), normalized, color='purple',\n",
    "        where='mid', label=r'$E_\\mathrm{Prim}=%.e\\;\\mathrm{GeV}$' % egrid[id_e], ls='-', alpha=1.)\n",
    "ax.set_xscale('linear')\n",
    "ax.set_yscale('linear')\n",
    "ax.set_xlabel(r'$\\log_{10}\\left(\\frac{E_\\mathrm{reco}}{\\mathrm{{GeV}}}\\right)$', fontsize=fontsize)\n",
    "ax.set_ylabel(r'$\\mathrm{PDF}$',\n",
    "              fontsize=fontsize)\n",
    "ax.tick_params(axis = 'both', which = 'major', labelsize=fontsize, direction='in')\n",
    "ax.tick_params(axis = 'both', which = 'minor', labelsize=fontsize, direction='in')\n",
    "ax.set_xlim(1, 5.)\n",
    "ax.set_ylim(0., 0.2)\n",
    "h, l = ax.get_legend_handles_labels()\n",
    "lgd1 = ax.legend(h,l, loc=9, bbox_to_anchor=(0.5, +1.2),\n",
    "                 ncol=3, fontsize=fontsize, handlelength=h_length,\n",
    "                 fancybox=True, frameon=False)\n",
    "ax.add_artist(lgd1)\n",
    "plt.show()\n",
    "fig.savefig(\"../pics/Line_Injection.png\",\n",
    "            bbox_inches='tight', dpi=1000)"
   ]
  }
 ],
 "metadata": {
  "kernelspec": {
   "name": "python3",
   "display_name": "Python 3.9.6 64-bit ('dmpoint': conda)"
  },
  "language_info": {
   "codemirror_mode": {
    "name": "ipython",
    "version": 3
   },
   "file_extension": ".py",
   "mimetype": "text/x-python",
   "name": "python",
   "nbconvert_exporter": "python",
   "pygments_lexer": "ipython3",
   "version": "3.9.6"
  },
  "interpreter": {
   "hash": "5a1bcc04120f375ef7d9168fc548adc654f89a7f8286d98488fe6e157ca6f85e"
  }
 },
 "nbformat": 4,
 "nbformat_minor": 4
}