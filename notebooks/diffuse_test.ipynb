{
 "cells": [
  {
   "cell_type": "code",
   "execution_count": 1,
   "metadata": {},
   "outputs": [],
   "source": [
    "# diffuse_test.ipynb\n",
    "# Authors: Stephan Meighen-Berger\n",
    "# Tests if another diffuse background model works better"
   ]
  },
  {
   "cell_type": "code",
   "execution_count": 2,
   "metadata": {},
   "outputs": [],
   "source": [
    "# Imports\n",
    "import numpy as np\n",
    "import matplotlib.pyplot as plt\n",
    "import csv\n",
    "# import time"
   ]
  },
  {
   "cell_type": "code",
   "execution_count": 3,
   "metadata": {},
   "outputs": [],
   "source": [
    "# picture path\n",
    "PICS = '../pics/'"
   ]
  },
  {
   "cell_type": "code",
   "execution_count": 4,
   "metadata": {},
   "outputs": [],
   "source": [
    "from matplotlib import rc\n",
    "rc('font',**{'family':'sans-serif','sans-serif':['Helvetica']})\n",
    "rc('text', usetex=True)"
   ]
  },
  {
   "cell_type": "code",
   "execution_count": 5,
   "metadata": {},
   "outputs": [],
   "source": [
    "# Plotting standards\n",
    "std_size = 3.\n",
    "fontsize = 10.\n",
    "lw=1.\n",
    "h_length=1.\n",
    "mark_s = 10\n",
    "# params\n",
    "mag_fit = 1.\n",
    "colors = ['#fef0d9', '#fdcc8a', '#fc8d59', '#e34a33', '#b30000']\n",
    "alphas = [0.2, 0.4, 0.6, 0.8, 1.]\n",
    "# labels_mass = ['1\\;TeV', '100\\;TeV', '10\\;PeV', '30\\;TeV']\n",
    "linest = ['-', '--', '-.', ':']"
   ]
  },
  {
   "cell_type": "code",
   "execution_count": 6,
   "metadata": {},
   "outputs": [],
   "source": [
    "# Constants\n",
    "minutes = 60.\n",
    "days = 60. * 24"
   ]
  },
  {
   "cell_type": "code",
   "execution_count": 7,
   "metadata": {},
   "outputs": [],
   "source": [
    "def ice_parser(filename):\n",
    "    store = []\n",
    "    with open(filename, newline='') as csvfile:\n",
    "        reader = csv.reader(csvfile)\n",
    "        for row_num, row in enumerate(reader):\n",
    "            if row_num == 0:\n",
    "                continue\n",
    "            store.append(row[0].split())\n",
    "    store = np.array(store, dtype=float)\n",
    "    return store"
   ]
  },
  {
   "cell_type": "code",
   "execution_count": 8,
   "metadata": {},
   "outputs": [],
   "source": [
    "# MJD, log10(E/GeV), AngErr[deg], RA[deg], Dec[deg], Azimuth[deg], Zenith[deg]\n",
    "data_sets = [\n",
    "    '../data/icecube_10year_ps/events/IC40_exp.csv',\n",
    "    '../data/icecube_10year_ps/events/IC59_exp.csv',\n",
    "    '../data/icecube_10year_ps/events/IC79_exp.csv',\n",
    "    '../data/icecube_10year_ps/events/IC86_I_exp.csv',\n",
    "    '../data/icecube_10year_ps/events/IC86_II_exp.csv',\n",
    "    '../data/icecube_10year_ps/events/IC86_III_exp.csv',\n",
    "    '../data/icecube_10year_ps/events/IC86_IV_exp.csv',\n",
    "    '../data/icecube_10year_ps/events/IC86_V_exp.csv',\n",
    "    '../data/icecube_10year_ps/events/IC86_VI_exp.csv',\n",
    "    '../data/icecube_10year_ps/events/IC86_VII_exp.csv',\n",
    "]\n",
    "event_dic = {\n",
    "    0: ice_parser(data_sets[0]),\n",
    "    1: ice_parser(data_sets[1]),\n",
    "    2: ice_parser(data_sets[2]),\n",
    "    3: ice_parser(data_sets[3]),\n",
    "    4: ice_parser(data_sets[4]),\n",
    "    5: ice_parser(data_sets[5]),\n",
    "    6: ice_parser(data_sets[6]),\n",
    "    7: ice_parser(data_sets[7]),\n",
    "    8: ice_parser(data_sets[8]),\n",
    "    9: ice_parser(data_sets[9]),\n",
    "}"
   ]
  },
  {
   "cell_type": "code",
   "execution_count": 9,
   "metadata": {},
   "outputs": [],
   "source": [
    "def data_filter(event_dic, energy_range, angle_range, years):\n",
    "    # filters the data in energy and angle\n",
    "    filtered_dic = {}\n",
    "    for year in years:\n",
    "        # where method is faster as basic slicing\n",
    "        energy_filter_1 = event_dic[year][np.where(event_dic[year][:, 1] < energy_range[1])]\n",
    "        energy_filter_2 = energy_filter_1[np.where(energy_filter_1[:, 1] > energy_range[0])]\n",
    "        high_angle = angle_range[1]\n",
    "        angle_filter_1 = energy_filter_2[np.where(energy_filter_2[:, 4] < high_angle)]\n",
    "        low_angle = angle_range[0]\n",
    "        angle_filter_2 = angle_filter_1[np.where(angle_filter_1[:, 4] > low_angle)]\n",
    "        filtered_dic[year] = angle_filter_2\n",
    "    return filtered_dic"
   ]
  },
  {
   "cell_type": "code",
   "execution_count": 21,
   "metadata": {},
   "outputs": [],
   "source": [
    "filtered_data = data_filter(event_dic, [5., 9.], [0., 90.], [0, 1, 2, 3, 4, 5, 6, 7, 8, 9])"
   ]
  },
  {
   "cell_type": "code",
   "execution_count": 22,
   "metadata": {},
   "outputs": [],
   "source": [
    "# Construct weighted events\n",
    "def reshape_events(event_dic, years):\n",
    "    weighted_data = []\n",
    "    for year in years:\n",
    "        weighted_data.append(np.array([\n",
    "            event_dic[year][:, 1],\n",
    "            event_dic[year][:, 3],\n",
    "            event_dic[year][:, 4],\n",
    "        ]))\n",
    "        weighted_data[-1] = weighted_data[-1].T\n",
    "    return np.concatenate([weighted_data[year] for year in years])\n",
    "test_set = reshape_events(filtered_data, range(10))"
   ]
  },
  {
   "cell_type": "code",
   "execution_count": 23,
   "metadata": {},
   "outputs": [
    {
     "data": {
      "text/plain": [
       "<matplotlib.collections.PathCollection at 0x21100e07280>"
      ]
     },
     "execution_count": 23,
     "metadata": {},
     "output_type": "execute_result"
    },
    {
     "data": {
      "image/png": "[encoded data removed]",
      "text/plain": [
       "<Figure size 432x288 with 1 Axes>"
      ]
     },
     "metadata": {
      "needs_background": "light"
     },
     "output_type": "display_data"
    }
   ],
   "source": [
    "plt.scatter(test_set[:, 1], test_set[:, 2], s=0.5)"
   ]
  },
  {
   "cell_type": "code",
   "execution_count": 28,
   "metadata": {},
   "outputs": [],
   "source": [
    "# The sky grid\n",
    "minimal_resolution = 10.\n",
    "ra_grid = np.arange(0., 360., minimal_resolution)\n",
    "decl_grid = np.arange(0., 90., minimal_resolution)\n",
    "ra_bin_len = len(ra_grid) - 1\n",
    "dec_bin_len = len(decl_grid) - 1\n",
    "binning_grid = np.linspace(5., 6., 21)"
   ]
  },
  {
   "cell_type": "code",
   "execution_count": 29,
   "metadata": {},
   "outputs": [],
   "source": [
    "# Binning function\n",
    "def binning_function_v3(\n",
    "    test_set, ra_grid, decl_grid, binning_grid=np.linspace(5., 7., 21)\n",
    "    ):\n",
    "    ra_ids = np.digitize(test_set[:, 1], ra_grid)\n",
    "    dec_ids = np.digitize(test_set[:, 2], decl_grid)\n",
    "    # Pre-filling dic\n",
    "    binned_events = {}\n",
    "    unbinned_events = {}\n",
    "    for ra_id in range(len(ra_ids) - 1):\n",
    "        for dec_id in range(len(dec_ids) - 1):\n",
    "            unbinned_events[(ra_id, dec_id)] = []\n",
    "    for event_id, event in enumerate(test_set):\n",
    "        unbinned_events[(ra_ids[event_id], dec_ids[event_id])].append(event[0])\n",
    "    # Binning the angle bins in energy\n",
    "    for key in unbinned_events.keys():\n",
    "        binned_events[key], bins = (\n",
    "            np.histogram(\n",
    "                unbinned_events[key], bins=binning_grid\n",
    "            )\n",
    "        )\n",
    "    return binned_events, bins\n",
    "binned_angles, e_bins = binning_function_v3(\n",
    "    test_set, ra_grid, decl_grid, binning_grid=binning_grid\n",
    ")"
   ]
  },
  {
   "cell_type": "code",
   "execution_count": 30,
   "metadata": {},
   "outputs": [],
   "source": [
    "# Diffuse\n",
    "diffuse_all = np.array([\n",
    "    binned_angles[key] for key in binned_angles.keys()\n",
    "])\n",
    "diffuse_mean = np.mean(diffuse_all, axis=0)\n",
    "diffuse_sd = np.std(diffuse_all, axis=0)"
   ]
  },
  {
   "cell_type": "code",
   "execution_count": 32,
   "metadata": {},
   "outputs": [
    {
     "data": {
      "text/plain": [
       "(5.0, 6.0)"
      ]
     },
     "execution_count": 32,
     "metadata": {},
     "output_type": "execute_result"
    },
    {
     "data": {
      "image/png": "[encoded data removed]",
      "text/plain": [
       "<Figure size 720x576 with 1 Axes>"
      ]
     },
     "metadata": {
      "needs_background": "light"
     },
     "output_type": "display_data"
    }
   ],
   "source": [
    "fig = plt.figure(figsize=(10, 8))\n",
    "plt.errorbar(e_bins[:-1] + np.diff(e_bins) / 2, diffuse_mean, diffuse_sd)\n",
    "plt.ylim(0., 0.05)\n",
    "plt.xlim(5., 6.)"
   ]
  },
  {
   "cell_type": "code",
   "execution_count": null,
   "metadata": {},
   "outputs": [],
   "source": []
  }
 ],
 "metadata": {
  "interpreter": {
   "hash": "4c84b7d67a412213c96e521414babcbf2d5fbeeae9e91be6e9510e631c1f41fd"
  },
  "kernelspec": {
   "display_name": "Python 3.9.6 64-bit ('dmpoint': conda)",
   "name": "python3"
  },
  "language_info": {
   "codemirror_mode": {
    "name": "ipython",
    "version": 3
   },
   "file_extension": ".py",
   "mimetype": "text/x-python",
   "name": "python",
   "nbconvert_exporter": "python",
   "pygments_lexer": "ipython3",
   "version": "3.9.6"
  }
 },
 "nbformat": 4,
 "nbformat_minor": 4
}
