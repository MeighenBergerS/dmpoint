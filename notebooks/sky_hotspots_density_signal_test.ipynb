{
 "cells": [
  {
   "cell_type": "code",
   "execution_count": 91,
   "source": [
    "# sky_hotspots_density_signal_test.ipynb\r\n",
    "# Authors: Stephan Meighen-Berger\r\n",
    "# Performs a signal hotspot check using a density approach"
   ],
   "outputs": [],
   "metadata": {}
  },
  {
   "cell_type": "code",
   "execution_count": 92,
   "source": [
    "# Imports\r\n",
    "import numpy as np\r\n",
    "import matplotlib.pyplot as plt\r\n",
    "import pickle\r\n",
    "import csv\r\n",
    "from tqdm import tqdm\r\n",
    "from scipy.interpolate import UnivariateSpline\r\n",
    "import matplotlib.cm as cm\r\n",
    "from scipy.optimize import root_scalar\r\n",
    "from scipy.stats import norm"
   ],
   "outputs": [],
   "metadata": {}
  },
  {
   "cell_type": "code",
   "execution_count": 93,
   "source": [
    "# picture path\r\n",
    "PICS = '../pics/'"
   ],
   "outputs": [],
   "metadata": {}
  },
  {
   "cell_type": "code",
   "execution_count": 94,
   "source": [
    "from matplotlib import rc\r\n",
    "rc('font',**{'family':'sans-serif','sans-serif':['Helvetica']})\r\n",
    "rc('text', usetex=True)"
   ],
   "outputs": [],
   "metadata": {}
  },
  {
   "cell_type": "code",
   "execution_count": 95,
   "source": [
    "# Plotting standards\r\n",
    "std_size = 6.\r\n",
    "fontsize = 20.\r\n",
    "lw=1.\r\n",
    "h_length=1.\r\n",
    "mark_s = 10\r\n",
    "# params\r\n",
    "mag_fit = 1.\r\n",
    "colors = ['#fef0d9', '#fdcc8a', '#fc8d59', '#e34a33', '#b30000']\r\n",
    "alphas = [0.2, 0.4, 0.6, 0.8, 1.]\r\n",
    "# labels_mass = ['1\\;TeV', '100\\;TeV', '10\\;PeV', '30\\;TeV']\r\n",
    "linest = ['-', '--', '-.', ':']"
   ],
   "outputs": [],
   "metadata": {}
  },
  {
   "cell_type": "code",
   "execution_count": 96,
   "source": [
    "def ice_parser(filename):\r\n",
    "    store = []\r\n",
    "    with open(filename, newline='') as csvfile:\r\n",
    "        reader = csv.reader(csvfile)\r\n",
    "        for row_num, row in enumerate(reader):\r\n",
    "            if row_num == 0:\r\n",
    "                continue\r\n",
    "            store.append(row[0].split())\r\n",
    "    store = np.array(store, dtype=float)\r\n",
    "    return store\r\n",
    "# log10(E_nu/GeV)_min, log10(E_nu/GeV)_max, Dec_nu_min[deg], Dec_nu_max[deg], A_Eff[cm^2]\r\n",
    "eff_areas = [\r\n",
    "    '../data/icecube_10year_ps/irfs/IC40_effectiveArea.csv',\r\n",
    "    '../data/icecube_10year_ps/irfs/IC59_effectiveArea.csv',\r\n",
    "    '../data/icecube_10year_ps/irfs/IC79_effectiveArea.csv',\r\n",
    "    '../data/icecube_10year_ps/irfs/IC86_I_effectiveArea.csv',\r\n",
    "    '../data/icecube_10year_ps/irfs/IC86_II_effectiveArea.csv',\r\n",
    "]\r\n",
    "eff_dic = {\r\n",
    "    0: ice_parser(eff_areas[0]),\r\n",
    "    1: ice_parser(eff_areas[1]),\r\n",
    "    2: ice_parser(eff_areas[2]),\r\n",
    "    3: ice_parser(eff_areas[3]),\r\n",
    "    4: ice_parser(eff_areas[4]),\r\n",
    "    5: ice_parser(eff_areas[4]),\r\n",
    "    6: ice_parser(eff_areas[4]),\r\n",
    "    7: ice_parser(eff_areas[4]),\r\n",
    "    8: ice_parser(eff_areas[4]),\r\n",
    "    9: ice_parser(eff_areas[4]),\r\n",
    "}"
   ],
   "outputs": [],
   "metadata": {}
  },
  {
   "cell_type": "code",
   "execution_count": 97,
   "source": [
    "# MJD, log10(E/GeV), AngErr[deg], RA[deg], Dec[deg], Azimuth[deg], Zenith[deg]\r\n",
    "data_sets = [\r\n",
    "    '../data/icecube_10year_ps/events/IC40_exp.csv',\r\n",
    "    '../data/icecube_10year_ps/events/IC59_exp.csv',\r\n",
    "    '../data/icecube_10year_ps/events/IC79_exp.csv',\r\n",
    "    '../data/icecube_10year_ps/events/IC86_I_exp.csv',\r\n",
    "    '../data/icecube_10year_ps/events/IC86_II_exp.csv',\r\n",
    "    '../data/icecube_10year_ps/events/IC86_III_exp.csv',\r\n",
    "    '../data/icecube_10year_ps/events/IC86_IV_exp.csv',\r\n",
    "    '../data/icecube_10year_ps/events/IC86_V_exp.csv',\r\n",
    "    '../data/icecube_10year_ps/events/IC86_VI_exp.csv',\r\n",
    "    '../data/icecube_10year_ps/events/IC86_VII_exp.csv',\r\n",
    "]\r\n",
    "event_dic = {\r\n",
    "    0: ice_parser(data_sets[0]),\r\n",
    "    1: ice_parser(data_sets[1]),\r\n",
    "    2: ice_parser(data_sets[2]),\r\n",
    "    3: ice_parser(data_sets[3]),\r\n",
    "    4: ice_parser(data_sets[4]),\r\n",
    "    5: ice_parser(data_sets[5]),\r\n",
    "    6: ice_parser(data_sets[6]),\r\n",
    "    7: ice_parser(data_sets[7]),\r\n",
    "    8: ice_parser(data_sets[8]),\r\n",
    "    9: ice_parser(data_sets[9]),\r\n",
    "}"
   ],
   "outputs": [],
   "metadata": {}
  },
  {
   "cell_type": "code",
   "execution_count": 98,
   "source": [
    "# Constants\r\n",
    "seconds = 60.\r\n",
    "minutes = 60.\r\n",
    "days = seconds * minutes * 24"
   ],
   "outputs": [],
   "metadata": {}
  },
  {
   "cell_type": "code",
   "execution_count": 99,
   "source": [
    "# MJD, log10(E/GeV), AngErr[deg], RA[deg], Dec[deg], Azimuth[deg], Zenith[deg]\r\n",
    "uptime_sets = [\r\n",
    "    '../data/icecube_10year_ps/uptime/IC40_exp.csv',\r\n",
    "    '../data/icecube_10year_ps/uptime/IC59_exp.csv',\r\n",
    "    '../data/icecube_10year_ps/uptime/IC79_exp.csv',\r\n",
    "    '../data/icecube_10year_ps/uptime/IC86_I_exp.csv',\r\n",
    "    '../data/icecube_10year_ps/uptime/IC86_II_exp.csv',\r\n",
    "    '../data/icecube_10year_ps/uptime/IC86_III_exp.csv',\r\n",
    "    '../data/icecube_10year_ps/uptime/IC86_IV_exp.csv',\r\n",
    "    '../data/icecube_10year_ps/uptime/IC86_V_exp.csv',\r\n",
    "    '../data/icecube_10year_ps/uptime/IC86_VI_exp.csv',\r\n",
    "    '../data/icecube_10year_ps/uptime/IC86_VII_exp.csv',\r\n",
    "]\r\n",
    "uptime_dic = {\r\n",
    "    0: ice_parser(uptime_sets[0]),\r\n",
    "    1: ice_parser(uptime_sets[1]),\r\n",
    "    2: ice_parser(uptime_sets[2]),\r\n",
    "    3: ice_parser(uptime_sets[3]),\r\n",
    "    4: ice_parser(uptime_sets[4]),\r\n",
    "    5: ice_parser(uptime_sets[5]),\r\n",
    "    6: ice_parser(uptime_sets[6]),\r\n",
    "    7: ice_parser(uptime_sets[7]),\r\n",
    "    8: ice_parser(uptime_sets[8]),\r\n",
    "    9: ice_parser(uptime_sets[9]),\r\n",
    "}\r\n",
    "uptime_tot_dic = {}\r\n",
    "for year in range(10):\r\n",
    "    uptime_tot_dic[year] = np.sum(np.diff(uptime_dic[year])) * days"
   ],
   "outputs": [],
   "metadata": {}
  },
  {
   "cell_type": "code",
   "execution_count": 100,
   "source": [
    "# Loading smearing\r\n",
    "# log10(E_nu/GeV)_min, log10(E_nu/GeV)_max, Dec_nu_min[deg], Dec_nu_max[deg], log10(E/GeV), PSF_min[deg], PSF_max[deg],\r\n",
    "# AngErr_min[deg], AngErr_max[deg], Fractional_Counts\r\n",
    "smearing_sets = [\r\n",
    "    '../data/icecube_10year_ps/irfs/IC40_smearing.csv',\r\n",
    "    '../data/icecube_10year_ps/irfs/IC59_smearing.csv',\r\n",
    "    '../data/icecube_10year_ps/irfs/IC79_smearing.csv',\r\n",
    "    '../data/icecube_10year_ps/irfs/IC86_I_smearing.csv',\r\n",
    "    '../data/icecube_10year_ps/irfs/IC86_II_smearing.csv',\r\n",
    "    '../data/icecube_10year_ps/irfs/IC86_II_smearing.csv',\r\n",
    "    '../data/icecube_10year_ps/irfs/IC86_II_smearing.csv',\r\n",
    "    '../data/icecube_10year_ps/irfs/IC86_II_smearing.csv',\r\n",
    "    '../data/icecube_10year_ps/irfs/IC86_II_smearing.csv',\r\n",
    "    '../data/icecube_10year_ps/irfs/IC86_II_smearing.csv',\r\n",
    "]\r\n",
    "smearing_dic = {\r\n",
    "    0: ice_parser(smearing_sets[0]),\r\n",
    "    1: ice_parser(smearing_sets[1]),\r\n",
    "    2: ice_parser(smearing_sets[2]),\r\n",
    "    3: ice_parser(smearing_sets[3]),\r\n",
    "    4: ice_parser(smearing_sets[4]),\r\n",
    "    5: ice_parser(smearing_sets[5]),\r\n",
    "    6: ice_parser(smearing_sets[6]),\r\n",
    "    7: ice_parser(smearing_sets[7]),\r\n",
    "    8: ice_parser(smearing_sets[8]),\r\n",
    "    9: ice_parser(smearing_sets[9]),\r\n",
    "}"
   ],
   "outputs": [],
   "metadata": {}
  },
  {
   "cell_type": "code",
   "execution_count": 101,
   "source": [
    "def smearing_function(true_e, true_dec, year):\r\n",
    "    # Returns the smeared reconstructed values\r\n",
    "    e_test = true_e\r\n",
    "    angle_test = true_dec\r\n",
    "    local_smearing = smearing_dic[year]\r\n",
    "    cross_check_smear_egrid = (local_smearing[:, 1] + local_smearing[:, 0])/2.\r\n",
    "    idE = np.abs(cross_check_smear_egrid - e_test).argmin()\r\n",
    "    all_near_e = (np.where(cross_check_smear_egrid == cross_check_smear_egrid[idE])[0])\r\n",
    "    cross_check_smear_theta = (local_smearing[:, 2] + local_smearing[:, 3])/2.\r\n",
    "    idtheta = np.abs(cross_check_smear_theta - angle_test).argmin()\r\n",
    "    all_near_theta = (np.where(cross_check_smear_theta == cross_check_smear_theta[idtheta])[0])\r\n",
    "    elements_of_interest = np.intersect1d(all_near_e, all_near_theta)\r\n",
    "    tmp_local_smearing = local_smearing[elements_of_interest]\r\n",
    "    smearing_e_grid = np.unique(tmp_local_smearing[:, 4])\r\n",
    "    smearing_fraction = []\r\n",
    "    for smearing_e_loop in smearing_e_grid:\r\n",
    "        idE = np.abs(tmp_local_smearing[:, 4] - smearing_e_loop).argmin()\r\n",
    "        all_near_e = (np.where(tmp_local_smearing[:, 4] == tmp_local_smearing[:, 4][idE])[0])\r\n",
    "        smearing_fraction.append(np.sum(tmp_local_smearing[all_near_e][:, -1]))\r\n",
    "    # Normalizing\r\n",
    "    smearing_fraction = np.array(smearing_fraction) / np.trapz(smearing_fraction, x=smearing_e_grid)\r\n",
    "    return smearing_e_grid, smearing_fraction"
   ],
   "outputs": [],
   "metadata": {}
  },
  {
   "cell_type": "code",
   "execution_count": 102,
   "source": [
    "m_eborders = np.logspace(4., 8., 41)\r\n",
    "m_ewidths = np.diff(m_eborders)\r\n",
    "m_egrid = np.sqrt(m_eborders[1:]*m_eborders[:-1])"
   ],
   "outputs": [],
   "metadata": {}
  },
  {
   "cell_type": "code",
   "execution_count": 103,
   "source": [
    "def effective_area_func(injection_id, theta, year):\r\n",
    "    # Apply the effective area to the simulation and return unsmeared counts\r\n",
    "    cross_check_egrid = (eff_dic[year][:, 1] + eff_dic[year][:, 0])/2.\r\n",
    "    cross_check_theta = (eff_dic[year][:, 2] + eff_dic[year][:, 3])/2.\r\n",
    "    eff_areas = []\r\n",
    "    check_angle = (theta)\r\n",
    "    energy = m_egrid[injection_id]\r\n",
    "    loge = np.log10(energy)\r\n",
    "    idE = np.abs(cross_check_egrid - loge).argmin()\r\n",
    "    all_near = (np.where(cross_check_egrid == cross_check_egrid[idE])[0])\r\n",
    "    idTheta = np.abs(cross_check_theta[all_near] - check_angle).argmin()\r\n",
    "    eff_areas.append(eff_dic[year][all_near, -1][idTheta])\r\n",
    "    loc_eff_area = np.array(eff_areas)\r\n",
    "    unsmeared_counts = m_ewidths[injection_id] * loc_eff_area * uptime_tot_dic[year] * 2. * np.pi\r\n",
    "    return unsmeared_counts"
   ],
   "outputs": [],
   "metadata": {}
  },
  {
   "cell_type": "code",
   "execution_count": 104,
   "source": [
    "def sim_to_dec(injection_id, theta, year):\r\n",
    "    # Converts simulation data to detector data\r\n",
    "    unnormalized_counts = effective_area_func(injection_id, theta, year)\r\n",
    "    log_egrid = np.log10(m_egrid)\r\n",
    "    smeared = []\r\n",
    "    check_angle = (theta)\r\n",
    "    smearing_e, smearing = smearing_function(log_egrid[injection_id],\r\n",
    "                                                check_angle, year)\r\n",
    "    spl = UnivariateSpline(smearing_e, smearing * unnormalized_counts,\r\n",
    "                            k=1, s=0, ext=1)\r\n",
    "    smeared = spl(log_egrid)\r\n",
    "    return smeared"
   ],
   "outputs": [],
   "metadata": {}
  },
  {
   "cell_type": "code",
   "execution_count": 105,
   "source": [
    "m_egrid[20]"
   ],
   "outputs": [
    {
     "output_type": "execute_result",
     "data": {
      "text/plain": [
       "1122018.4543019629"
      ]
     },
     "metadata": {},
     "execution_count": 105
    }
   ],
   "metadata": {}
  },
  {
   "cell_type": "code",
   "execution_count": 106,
   "source": [
    "fig, ax = plt.subplots(1, 1,\r\n",
    "                       figsize=(3, 3 * 6. / 8.),\r\n",
    "                       sharex=True,\r\n",
    "                       gridspec_kw={'hspace': 0})\r\n",
    "ax.step(np.log10(m_egrid),\r\n",
    "        sim_to_dec(20, 5., 8) / np.trapz(sim_to_dec(20, 5., 8), x=m_egrid),\r\n",
    "        color='g', lw=1.)\r\n",
    "ax.axvline(6, color='k', lw=1., label=r'$1\\;\\mathrm{PeV}\\; \\nu_\\mu$')\r\n",
    "ax.set_xscale('linear')\r\n",
    "ax.set_yscale('linear')\r\n",
    "ax.set_xlabel(r'$\\log_{10}\\left(\\frac{E_\\mathrm{reco}}{\\mathrm{GeV}}\\right)$',\r\n",
    "              fontsize=10)\r\n",
    "ax.set_ylabel(r'$\\mathrm{Reconstruction\\;PDF}$',\r\n",
    "              fontsize=10)\r\n",
    "ax.tick_params(axis = 'both', which = 'major', labelsize=10, direction='in')\r\n",
    "ax.tick_params(axis = 'both', which = 'minor', labelsize=10, direction='in')\r\n",
    "ax.set_xlim(4, 6.5)\r\n",
    "# ax.set_ylim(1e0, 1e3)\r\n",
    "h, l = ax.get_legend_handles_labels()\r\n",
    "lgd1 = ax.legend(h,l, loc=9, bbox_to_anchor=(0.5, +1.2),\r\n",
    "                 ncol=2, fontsize=10, handlelength=h_length,\r\n",
    "                 fancybox=True, frameon=False)\r\n",
    "ax.add_artist(lgd1)\r\n",
    "plt.show()\r\n",
    "fig.savefig(\"..\\\\pics\\\\Reconstructed_Event.png\",\r\n",
    "            bbox_inches='tight', dpi=200)"
   ],
   "outputs": [
    {
     "output_type": "display_data",
     "data": {
      "text/plain": [
       "<Figure size 216x162 with 1 Axes>"
      ],
      "image/svg+xml": "<?xml version=\"1.0\" encoding=\"utf-8\" standalone=\"no\"?>\r\n<!DOCTYPE svg PUBLIC \"-//W3C//DTD SVG 1.1//EN\"\r\n  \"http://www.w3.org/Graphics/SVG/1.1/DTD/svg11.dtd\">\r\n<svg height=\"185.22942pt\" version=\"1.1\" viewBox=\"0 0 217.615425 185.22942\" width=\"217.615425pt\" xmlns=\"http://www.w3.org/2000/svg\" xmlns:xlink=\"http://www.w3.org/1999/xlink\">\r\n <metadata>\r\n  <rdf:RDF xmlns:cc=\"http://creativecommons.org/ns#\" xmlns:dc=\"http://purl.org/dc/elements/1.1/\" xmlns:rdf=\"http://www.w3.org/1999/02/22-rdf-syntax-ns#\">\r\n   <cc:Work>\r\n    <dc:type rdf:resource=\"http://purl.org/dc/dcmitype/StillImage\"/>\r\n    <dc:date>2021-09-01T10:09:46.073188</dc:date>\r\n    <dc:format>image/svg+xml</dc:format>\r\n    <dc:creator>\r\n     <cc:Agent>\r\n      <dc:title>Matplotlib v3.4.2, https://matplotlib.org/</dc:title>\r\n     </cc:Agent>\r\n    </dc:creator>\r\n   </cc:Work>\r\n  </rdf:RDF>\r\n </metadata>\r\n <defs>\r\n  <style type=\"text/css\">*{stroke-linecap:butt;stroke-linejoin:round;}</style>\r\n </defs>\r\n <g id=\"figure_1\">\r\n  <g id=\"patch_1\">\r\n   <path d=\"M 0 185.22942 \r\nL 217.615425 185.22942 \r\nL 217.615425 0 \r\nL 0 0 \r\nz\r\n\" style=\"fill:none;\"/>\r\n  </g>\r\n  <g id=\"axes_1\">\r\n   <g id=\"patch_2\">\r\n    <path d=\"M 36.650386 148.972 \r\nL 204.050386 148.972 \r\nL 204.050386 26.662 \r\nL 36.650386 26.662 \r\nz\r\n\" style=\"fill:#ffffff;\"/>\r\n   </g>\r\n   <g id=\"matplotlib.axis_1\">\r\n    <g id=\"xtick_1\">\r\n     <g id=\"line2d_1\">\r\n      <defs>\r\n       <path d=\"M 0 0 \r\nL 0 -3.5 \r\n\" id=\"me44dcc7e6f\" style=\"stroke:#000000;stroke-width:0.8;\"/>\r\n      </defs>\r\n      <g>\r\n       <use style=\"stroke:#000000;stroke-width:0.8;\" x=\"36.650386\" xlink:href=\"#me44dcc7e6f\" y=\"148.972\"/>\r\n      </g>\r\n     </g>\r\n     <g id=\"text_1\">\r\n      <!-- $\\mathdefault{4.0}$ -->\r\n      <g transform=\"translate(30.285346 159.57032)scale(0.1 -0.1)\">\r\n       <defs>\r\n        <path d=\"M 2150 4147 \r\nC 2150 4281 2144 4288 2029 4288 \r\nL 128 1254 \r\nL 128 1088 \r\nL 1779 1088 \r\nL 1779 460 \r\nC 1779 230 1766 166 1318 166 \r\nL 1197 166 \r\nL 1197 0 \r\nC 1402 12 1747 12 1965 12 \r\nC 2182 12 2528 12 2733 0 \r\nL 2733 166 \r\nL 2611 166 \r\nC 2163 166 2150 230 2150 460 \r\nL 2150 1088 \r\nL 2803 1088 \r\nL 2803 1254 \r\nL 2150 1254 \r\nL 2150 4147 \r\nz\r\nM 1798 3723 \r\nL 1798 1254 \r\nL 256 1254 \r\nL 1798 3723 \r\nz\r\n\" id=\"CMR17-34\" transform=\"scale(0.015625)\"/>\r\n        <path d=\"M 1178 307 \r\nC 1178 492 1024 620 870 620 \r\nC 685 620 557 467 557 313 \r\nC 557 128 710 0 864 0 \r\nC 1050 0 1178 153 1178 307 \r\nz\r\n\" id=\"CMMI12-3a\" transform=\"scale(0.015625)\"/>\r\n        <path d=\"M 2688 2038 \r\nC 2688 2430 2682 3099 2413 3613 \r\nC 2176 4063 1798 4224 1466 4224 \r\nC 1158 4224 768 4082 525 3620 \r\nC 269 3137 243 2539 243 2038 \r\nC 243 1671 250 1112 448 623 \r\nC 723 -39 1216 -128 1466 -128 \r\nC 1760 -128 2208 -7 2470 604 \r\nC 2662 1048 2688 1568 2688 2038 \r\nz\r\nM 1466 -26 \r\nC 1056 -26 813 328 723 816 \r\nC 653 1196 653 1749 653 2109 \r\nC 653 2604 653 3015 736 3407 \r\nC 858 3954 1216 4121 1466 4121 \r\nC 1728 4121 2067 3947 2189 3420 \r\nC 2272 3054 2278 2623 2278 2109 \r\nC 2278 1691 2278 1176 2202 797 \r\nC 2067 96 1690 -26 1466 -26 \r\nz\r\n\" id=\"CMR17-30\" transform=\"scale(0.015625)\"/>\r\n       </defs>\r\n       <use transform=\"scale(0.996264)\" xlink:href=\"#CMR17-34\"/>\r\n       <use transform=\"translate(45.690477 0)scale(0.996264)\" xlink:href=\"#CMMI12-3a\"/>\r\n       <use transform=\"translate(72.787654 0)scale(0.996264)\" xlink:href=\"#CMR17-30\"/>\r\n      </g>\r\n     </g>\r\n    </g>\r\n    <g id=\"xtick_2\">\r\n     <g id=\"line2d_2\">\r\n      <g>\r\n       <use style=\"stroke:#000000;stroke-width:0.8;\" x=\"70.130386\" xlink:href=\"#me44dcc7e6f\" y=\"148.972\"/>\r\n      </g>\r\n     </g>\r\n     <g id=\"text_2\">\r\n      <!-- $\\mathdefault{4.5}$ -->\r\n      <g transform=\"translate(63.765346 159.57032)scale(0.1 -0.1)\">\r\n       <defs>\r\n        <path d=\"M 730 3750 \r\nC 794 3724 1056 3641 1325 3641 \r\nC 1920 3641 2246 3961 2432 4140 \r\nC 2432 4191 2432 4224 2394 4224 \r\nC 2387 4224 2374 4224 2323 4198 \r\nC 2099 4102 1837 4032 1517 4032 \r\nC 1325 4032 1037 4055 723 4191 \r\nC 653 4224 640 4224 634 4224 \r\nC 602 4224 595 4217 595 4090 \r\nL 595 2231 \r\nC 595 2113 595 2080 659 2080 \r\nC 691 2080 704 2093 736 2139 \r\nC 941 2435 1222 2560 1542 2560 \r\nC 1766 2560 2246 2415 2246 1293 \r\nC 2246 1087 2246 716 2054 422 \r\nC 1894 159 1645 25 1370 25 \r\nC 947 25 518 319 403 812 \r\nC 429 806 480 793 506 793 \r\nC 589 793 749 838 749 1036 \r\nC 749 1209 627 1280 506 1280 \r\nC 358 1280 262 1190 262 1011 \r\nC 262 454 704 -128 1382 -128 \r\nC 2042 -128 2669 441 2669 1267 \r\nC 2669 2054 2170 2662 1549 2662 \r\nC 1222 2662 947 2540 730 2304 \r\nL 730 3750 \r\nz\r\n\" id=\"CMR17-35\" transform=\"scale(0.015625)\"/>\r\n       </defs>\r\n       <use transform=\"scale(0.996264)\" xlink:href=\"#CMR17-34\"/>\r\n       <use transform=\"translate(45.690477 0)scale(0.996264)\" xlink:href=\"#CMMI12-3a\"/>\r\n       <use transform=\"translate(72.787654 0)scale(0.996264)\" xlink:href=\"#CMR17-35\"/>\r\n      </g>\r\n     </g>\r\n    </g>\r\n    <g id=\"xtick_3\">\r\n     <g id=\"line2d_3\">\r\n      <g>\r\n       <use style=\"stroke:#000000;stroke-width:0.8;\" x=\"103.610386\" xlink:href=\"#me44dcc7e6f\" y=\"148.972\"/>\r\n      </g>\r\n     </g>\r\n     <g id=\"text_3\">\r\n      <!-- $\\mathdefault{5.0}$ -->\r\n      <g transform=\"translate(97.245346 159.57032)scale(0.1 -0.1)\">\r\n       <use transform=\"scale(0.996264)\" xlink:href=\"#CMR17-35\"/>\r\n       <use transform=\"translate(45.690477 0)scale(0.996264)\" xlink:href=\"#CMMI12-3a\"/>\r\n       <use transform=\"translate(72.787654 0)scale(0.996264)\" xlink:href=\"#CMR17-30\"/>\r\n      </g>\r\n     </g>\r\n    </g>\r\n    <g id=\"xtick_4\">\r\n     <g id=\"line2d_4\">\r\n      <g>\r\n       <use style=\"stroke:#000000;stroke-width:0.8;\" x=\"137.090386\" xlink:href=\"#me44dcc7e6f\" y=\"148.972\"/>\r\n      </g>\r\n     </g>\r\n     <g id=\"text_4\">\r\n      <!-- $\\mathdefault{5.5}$ -->\r\n      <g transform=\"translate(130.725346 159.57032)scale(0.1 -0.1)\">\r\n       <use transform=\"scale(0.996264)\" xlink:href=\"#CMR17-35\"/>\r\n       <use transform=\"translate(45.690477 0)scale(0.996264)\" xlink:href=\"#CMMI12-3a\"/>\r\n       <use transform=\"translate(72.787654 0)scale(0.996264)\" xlink:href=\"#CMR17-35\"/>\r\n      </g>\r\n     </g>\r\n    </g>\r\n    <g id=\"xtick_5\">\r\n     <g id=\"line2d_5\">\r\n      <g>\r\n       <use style=\"stroke:#000000;stroke-width:0.8;\" x=\"170.570386\" xlink:href=\"#me44dcc7e6f\" y=\"148.972\"/>\r\n      </g>\r\n     </g>\r\n     <g id=\"text_5\">\r\n      <!-- $\\mathdefault{6.0}$ -->\r\n      <g transform=\"translate(164.205346 159.57032)scale(0.1 -0.1)\">\r\n       <defs>\r\n        <path d=\"M 678 2198 \r\nC 678 3712 1395 4076 1811 4076 \r\nC 1946 4076 2272 4049 2400 3782 \r\nC 2298 3782 2106 3782 2106 3558 \r\nC 2106 3385 2246 3328 2336 3328 \r\nC 2394 3328 2566 3353 2566 3571 \r\nC 2566 3987 2246 4224 1805 4224 \r\nC 1043 4224 243 3411 243 2011 \r\nC 243 257 966 -128 1478 -128 \r\nC 2099 -128 2688 431 2688 1295 \r\nC 2688 2101 2170 2688 1517 2688 \r\nC 1126 2688 838 2430 678 1979 \r\nL 678 2198 \r\nz\r\nM 1478 25 \r\nC 691 25 691 1212 691 1450 \r\nC 691 1914 909 2585 1504 2585 \r\nC 1613 2585 1926 2585 2138 2140 \r\nC 2253 1889 2253 1624 2253 1302 \r\nC 2253 954 2253 696 2118 438 \r\nC 1978 173 1773 25 1478 25 \r\nz\r\n\" id=\"CMR17-36\" transform=\"scale(0.015625)\"/>\r\n       </defs>\r\n       <use transform=\"scale(0.996264)\" xlink:href=\"#CMR17-36\"/>\r\n       <use transform=\"translate(45.690477 0)scale(0.996264)\" xlink:href=\"#CMMI12-3a\"/>\r\n       <use transform=\"translate(72.787654 0)scale(0.996264)\" xlink:href=\"#CMR17-30\"/>\r\n      </g>\r\n     </g>\r\n    </g>\r\n    <g id=\"xtick_6\">\r\n     <g id=\"line2d_6\">\r\n      <g>\r\n       <use style=\"stroke:#000000;stroke-width:0.8;\" x=\"204.050386\" xlink:href=\"#me44dcc7e6f\" y=\"148.972\"/>\r\n      </g>\r\n     </g>\r\n     <g id=\"text_6\">\r\n      <!-- $\\mathdefault{6.5}$ -->\r\n      <g transform=\"translate(197.685346 159.57032)scale(0.1 -0.1)\">\r\n       <use transform=\"scale(0.996264)\" xlink:href=\"#CMR17-36\"/>\r\n       <use transform=\"translate(45.690477 0)scale(0.996264)\" xlink:href=\"#CMMI12-3a\"/>\r\n       <use transform=\"translate(72.787654 0)scale(0.996264)\" xlink:href=\"#CMR17-35\"/>\r\n      </g>\r\n     </g>\r\n    </g>\r\n    <g id=\"text_7\">\r\n     <!-- $\\log_{10}\\left(\\frac{E_\\mathrm{reco}}{\\mathrm{GeV}}\\right)$ -->\r\n     <g transform=\"translate(93.842042 174.542435)scale(0.1 -0.1)\">\r\n      <defs>\r\n       <path d=\"M 979 4416 \r\nL 218 4345 \r\nL 218 4179 \r\nC 595 4179 653 4141 653 3835 \r\nL 653 439 \r\nC 653 198 627 166 218 166 \r\nL 218 0 \r\nC 371 12 653 12 813 12 \r\nC 979 12 1261 12 1414 0 \r\nL 1414 166 \r\nC 1005 166 979 191 979 439 \r\nL 979 4416 \r\nz\r\n\" id=\"CMR17-6c\" transform=\"scale(0.015625)\"/>\r\n       <path d=\"M 2758 1356 \r\nC 2758 2176 2163 2816 1466 2816 \r\nC 768 2816 173 2176 173 1356 \r\nC 173 550 768 -64 1466 -64 \r\nC 2163 -64 2758 550 2758 1356 \r\nz\r\nM 1466 51 \r\nC 1165 51 909 230 762 480 \r\nC 602 768 582 1126 582 1408 \r\nC 582 1676 595 2009 762 2297 \r\nC 890 2508 1139 2713 1466 2713 \r\nC 1754 2713 1997 2553 2150 2329 \r\nC 2349 2028 2349 1606 2349 1408 \r\nC 2349 1158 2336 774 2163 467 \r\nC 1984 172 1709 51 1466 51 \r\nz\r\n\" id=\"CMR17-6f\" transform=\"scale(0.015625)\"/>\r\n       <path d=\"M 710 1165 \r\nC 832 1068 1043 960 1299 960 \r\nC 1805 960 2240 1359 2240 1895 \r\nC 2240 2063 2189 2321 1997 2521 \r\nC 2176 2713 2438 2777 2586 2777 \r\nC 2611 2777 2650 2777 2682 2758 \r\nC 2656 2751 2598 2726 2598 2623 \r\nC 2598 2540 2656 2483 2739 2483 \r\nC 2835 2483 2886 2547 2886 2630 \r\nC 2886 2751 2790 2880 2586 2880 \r\nC 2330 2880 2106 2758 1926 2591 \r\nC 1734 2764 1504 2828 1299 2828 \r\nC 794 2828 358 2431 358 1895 \r\nC 358 1527 570 1294 634 1230 \r\nC 442 1004 442 742 442 710 \r\nC 442 544 506 300 723 166 \r\nC 390 82 128 -184 128 -517 \r\nC 128 -996 736 -1344 1466 -1344 \r\nC 2170 -1344 2803 -1009 2803 -510 \r\nC 2803 384 1856 384 1363 384 \r\nC 1216 384 954 384 922 390 \r\nC 723 422 589 601 589 825 \r\nC 589 883 589 1024 710 1165 \r\nz\r\nM 1299 1068 \r\nC 736 1068 736 1766 736 1895 \r\nC 736 2024 736 2719 1299 2719 \r\nC 1862 2719 1862 2024 1862 1895 \r\nC 1862 1766 1862 1068 1299 1068 \r\nz\r\nM 1466 -1236 \r\nC 826 -1236 384 -883 384 -517 \r\nC 384 -311 493 -118 634 -11 \r\nC 794 102 858 102 1293 102 \r\nC 1818 102 2547 102 2547 -517 \r\nC 2547 -883 2106 -1236 1466 -1236 \r\nz\r\n\" id=\"CMR17-67\" transform=\"scale(0.015625)\"/>\r\n       <path d=\"M 1702 4083 \r\nC 1702 4217 1696 4224 1606 4224 \r\nC 1357 3927 979 3833 621 3820 \r\nC 602 3820 570 3820 563 3808 \r\nC 557 3795 557 3782 557 3648 \r\nC 755 3648 1088 3686 1344 3839 \r\nL 1344 467 \r\nC 1344 243 1331 166 781 166 \r\nL 589 166 \r\nL 589 0 \r\nC 896 6 1216 12 1523 12 \r\nC 1830 12 2150 6 2458 0 \r\nL 2458 166 \r\nL 2266 166 \r\nC 1715 166 1702 236 1702 467 \r\nL 1702 4083 \r\nz\r\n\" id=\"CMR17-31\" transform=\"scale(0.015625)\"/>\r\n       <path d=\"M 3296 -11194 \r\nC 3309 -11200 3366 -11264 3373 -11264 \r\nL 3514 -11264 \r\nC 3533 -11264 3584 -11258 3584 -11200 \r\nC 3584 -11175 3571 -11162 3558 -11143 \r\nC 3328 -10912 2982 -10560 2586 -9856 \r\nC 1894 -8626 1638 -7045 1638 -5508 \r\nC 1638 -2665 2445 -994 3565 140 \r\nC 3584 160 3584 179 3584 192 \r\nC 3584 256 3539 256 3462 256 \r\nC 3379 256 3366 256 3309 204 \r\nC 2701 -321 2016 -1211 1574 -2562 \r\nC 1299 -3408 1152 -4439 1152 -5502 \r\nC 1152 -7019 1427 -8735 2432 -10221 \r\nC 2605 -10471 2842 -10733 2842 -10739 \r\nC 2906 -10816 2995 -10919 3046 -10964 \r\nL 3296 -11194 \r\nz\r\n\" id=\"CMEX10-10\" transform=\"scale(0.015625)\"/>\r\n       <path d=\"M 4448 1489 \r\nC 4454 1508 4474 1553 4474 1578 \r\nC 4474 1611 4448 1643 4410 1643 \r\nC 4384 1643 4371 1636 4352 1617 \r\nC 4339 1611 4339 1598 4282 1469 \r\nC 3904 570 3629 185 2605 185 \r\nL 1670 185 \r\nC 1581 185 1568 185 1530 192 \r\nC 1459 198 1453 211 1453 262 \r\nC 1453 307 1466 346 1478 403 \r\nL 1920 2176 \r\nL 2554 2176 \r\nC 3053 2176 3091 2066 3091 1874 \r\nC 3091 1810 3091 1752 3046 1559 \r\nC 3034 1534 3027 1508 3027 1489 \r\nC 3027 1444 3059 1424 3098 1424 \r\nC 3155 1424 3162 1469 3187 1559 \r\nL 3552 3036 \r\nC 3552 3068 3526 3099 3488 3099 \r\nC 3430 3099 3424 3074 3398 2986 \r\nC 3270 2500 3142 2361 2573 2361 \r\nL 1965 2361 \r\nL 2362 3913 \r\nC 2419 4134 2432 4153 2694 4153 \r\nL 3610 4153 \r\nC 4397 4153 4557 3945 4557 3465 \r\nC 4557 3459 4557 3282 4531 3074 \r\nC 4525 3049 4518 3011 4518 2998 \r\nC 4518 2948 4550 2929 4589 2929 \r\nC 4634 2929 4659 2954 4672 3068 \r\nL 4806 4172 \r\nC 4806 4191 4819 4255 4819 4268 \r\nC 4819 4339 4762 4339 4646 4339 \r\nL 1523 4339 \r\nC 1402 4339 1338 4339 1338 4223 \r\nC 1338 4153 1382 4153 1491 4153 \r\nC 1888 4153 1888 4109 1888 4039 \r\nC 1888 4008 1882 3983 1862 3913 \r\nL 998 474 \r\nC 941 249 928 185 480 185 \r\nC 358 185 294 185 294 70 \r\nC 294 0 333 0 461 0 \r\nL 3674 0 \r\nC 3814 0 3821 6 3866 108 \r\nL 4448 1489 \r\nz\r\n\" id=\"CMMI12-45\" transform=\"scale(0.015625)\"/>\r\n       <path d=\"M 960 1517 \r\nC 960 2134 1222 2713 1702 2713 \r\nC 1747 2713 1792 2707 1837 2687 \r\nC 1837 2687 1696 2642 1696 2475 \r\nC 1696 2321 1818 2257 1914 2257 \r\nC 1990 2257 2131 2302 2131 2482 \r\nC 2131 2687 1926 2816 1709 2816 \r\nC 1222 2816 1011 2340 947 2115 \r\nL 941 2115 \r\nL 941 2816 \r\nL 198 2745 \r\nL 198 2578 \r\nC 576 2578 634 2540 634 2231 \r\nL 634 443 \r\nC 634 198 608 166 198 166 \r\nL 198 0 \r\nC 352 12 646 12 813 12 \r\nC 998 12 1325 12 1498 0 \r\nL 1498 166 \r\nC 1037 166 960 166 960 455 \r\nL 960 1517 \r\nz\r\n\" id=\"CMR17-72\" transform=\"scale(0.015625)\"/>\r\n       <path d=\"M 2438 1503 \r\nC 2464 1529 2464 1542 2464 1606 \r\nC 2464 2251 2118 2816 1389 2816 \r\nC 710 2816 173 2175 173 1394 \r\nC 173 554 781 -64 1459 -64 \r\nC 2176 -64 2458 619 2458 755 \r\nC 2458 800 2419 800 2406 800 \r\nC 2362 800 2355 787 2330 709 \r\nC 2189 270 1837 51 1504 51 \r\nC 1229 51 954 206 781 490 \r\nC 582 819 582 1200 582 1503 \r\nL 2438 1503 \r\nz\r\nM 589 1600 \r\nC 634 2511 1126 2713 1382 2713 \r\nC 1818 2713 2112 2308 2118 1600 \r\nL 589 1600 \r\nz\r\n\" id=\"CMR17-65\" transform=\"scale(0.015625)\"/>\r\n       <path d=\"M 2234 2240 \r\nC 2112 2240 1933 2240 1933 2015 \r\nC 1933 1836 2080 1785 2163 1785 \r\nC 2208 1785 2394 1804 2394 2028 \r\nC 2394 2476 1958 2816 1466 2816 \r\nC 787 2816 211 2201 211 1379 \r\nC 211 521 813 -64 1466 -64 \r\nC 2259 -64 2458 676 2458 747 \r\nC 2458 773 2451 792 2406 792 \r\nC 2362 792 2355 786 2330 702 \r\nC 2163 180 1798 51 1523 51 \r\nC 1114 51 621 431 621 1385 \r\nC 621 2358 1094 2700 1472 2700 \r\nC 1722 2700 2093 2582 2234 2240 \r\nz\r\n\" id=\"CMR17-63\" transform=\"scale(0.015625)\"/>\r\n       <path d=\"M 3974 1258 \r\nC 3974 1503 3994 1536 4390 1536 \r\nL 4390 1702 \r\nC 4237 1689 3891 1689 3718 1689 \r\nC 3539 1689 3040 1696 2797 1702 \r\nL 2797 1536 \r\nL 2989 1536 \r\nC 3539 1536 3552 1464 3552 1232 \r\nL 3552 806 \r\nC 3552 96 2720 38 2522 38 \r\nC 1862 38 781 496 781 2179 \r\nC 781 3862 1843 4313 2464 4313 \r\nC 3187 4313 3712 3681 3834 2785 \r\nC 3846 2708 3846 2695 3904 2695 \r\nC 3974 2695 3974 2708 3974 2824 \r\nL 3974 4351 \r\nC 3974 4467 3968 4473 3930 4473 \r\nC 3904 4473 3898 4467 3853 4390 \r\nL 3571 3849 \r\nC 3258 4249 2874 4480 2381 4480 \r\nC 1286 4480 294 3507 294 2179 \r\nC 294 858 1267 -128 2394 -128 \r\nC 2912 -128 3418 57 3616 425 \r\nC 3725 161 3904 -20 3936 -20 \r\nC 3968 -20 3974 -13 3974 102 \r\nL 3974 1258 \r\nz\r\n\" id=\"CMR17-47\" transform=\"scale(0.015625)\"/>\r\n       <path d=\"M 3776 3762 \r\nC 3834 3903 3936 4179 4365 4185 \r\nL 4365 4352 \r\nC 4218 4339 4051 4339 3891 4339 \r\nC 3738 4339 3475 4339 3328 4352 \r\nL 3328 4185 \r\nC 3648 4166 3661 3942 3661 3903 \r\nC 3661 3833 3642 3788 3622 3737 \r\nL 2362 448 \r\nL 1043 3903 \r\nC 1024 3948 1011 3980 1011 4012 \r\nC 1011 4185 1267 4185 1402 4185 \r\nL 1402 4352 \r\nC 1197 4339 896 4339 685 4339 \r\nC 518 4339 218 4339 64 4352 \r\nL 64 4185 \r\nC 435 4185 506 4160 582 3955 \r\nL 2106 -26 \r\nC 2138 -116 2144 -128 2214 -128 \r\nC 2285 -128 2291 -116 2323 -26 \r\nL 3776 3762 \r\nz\r\n\" id=\"CMR17-56\" transform=\"scale(0.015625)\"/>\r\n       <path d=\"M 2662 -5502 \r\nC 2662 -3664 2234 -1711 973 -270 \r\nC 883 -168 646 82 493 217 \r\nC 448 256 435 256 352 256 \r\nC 288 256 230 256 230 192 \r\nC 230 166 256 140 269 128 \r\nC 486 -97 832 -449 1229 -1154 \r\nC 1920 -2383 2176 -3965 2176 -5502 \r\nC 2176 -8281 1408 -9977 256 -11149 \r\nC 243 -11162 230 -11181 230 -11200 \r\nC 230 -11264 288 -11264 352 -11264 \r\nC 435 -11264 448 -11264 506 -11213 \r\nC 1114 -10688 1798 -9798 2240 -8447 \r\nC 2522 -7570 2662 -6533 2662 -5502 \r\nz\r\n\" id=\"CMEX10-11\" transform=\"scale(0.015625)\"/>\r\n      </defs>\r\n      <use transform=\"scale(0.996264)\" xlink:href=\"#CMR17-6c\"/>\r\n      <use transform=\"translate(24.871058 0)scale(0.996264)\" xlink:href=\"#CMR17-6f\"/>\r\n      <use transform=\"translate(70.561536 0)scale(0.996264)\" xlink:href=\"#CMR17-67\"/>\r\n      <use transform=\"translate(117.553179 -22.865092)scale(0.697382)\" xlink:href=\"#CMR17-31\"/>\r\n      <use transform=\"translate(149.536361 -22.865092)scale(0.697382)\" xlink:href=\"#CMR17-30\"/>\r\n      <use transform=\"translate(198.62208 110.586308)scale(0.996264)\" xlink:href=\"#CMEX10-10\"/>\r\n      <use transform=\"translate(259.316884 41.344728)scale(0.697382)\" xlink:href=\"#CMMI12-45\"/>\r\n      <use transform=\"translate(309.864513 30.884032)scale(0.498132)\" xlink:href=\"#CMR17-72\"/>\r\n      <use transform=\"translate(327.504889 30.884032)scale(0.498132)\" xlink:href=\"#CMR17-65\"/>\r\n      <use transform=\"translate(347.747719 30.884032)scale(0.498132)\" xlink:href=\"#CMR17-63\"/>\r\n      <use transform=\"translate(367.990549 30.884032)scale(0.498132)\" xlink:href=\"#CMR17-6f\"/>\r\n      <use transform=\"translate(261.200582 -34.355253)scale(0.697382)\" xlink:href=\"#CMR17-47\"/>\r\n      <use transform=\"translate(311.849105 -34.355253)scale(0.697382)\" xlink:href=\"#CMR17-65\"/>\r\n      <use transform=\"translate(340.188937 -34.355253)scale(0.697382)\" xlink:href=\"#CMR17-56\"/>\r\n      <use transform=\"translate(392.529434 110.586308)scale(0.996264)\" xlink:href=\"#CMEX10-11\"/>\r\n      <path d=\"M 259.316884 22.914133 \r\nL 391.33392 22.914133 \r\nL 391.33392 26.899083 \r\nL 259.316884 26.899083 \r\nL 259.316884 22.914133 \r\nz\r\n\"/>\r\n     </g>\r\n    </g>\r\n   </g>\r\n   <g id=\"matplotlib.axis_2\">\r\n    <g id=\"ytick_1\">\r\n     <g id=\"line2d_7\">\r\n      <defs>\r\n       <path d=\"M 0 0 \r\nL 3.5 0 \r\n\" id=\"md6e2664611\" style=\"stroke:#000000;stroke-width:0.8;\"/>\r\n      </defs>\r\n      <g>\r\n       <use style=\"stroke:#000000;stroke-width:0.8;\" x=\"36.650386\" xlink:href=\"#md6e2664611\" y=\"143.412455\"/>\r\n      </g>\r\n     </g>\r\n     <g id=\"text_8\">\r\n      <!-- $\\mathdefault{0.0}$ -->\r\n      <g transform=\"translate(20.420307 146.961615)scale(0.1 -0.1)\">\r\n       <use transform=\"scale(0.996264)\" xlink:href=\"#CMR17-30\"/>\r\n       <use transform=\"translate(45.690477 0)scale(0.996264)\" xlink:href=\"#CMMI12-3a\"/>\r\n       <use transform=\"translate(72.787654 0)scale(0.996264)\" xlink:href=\"#CMR17-30\"/>\r\n      </g>\r\n     </g>\r\n    </g>\r\n    <g id=\"ytick_2\">\r\n     <g id=\"line2d_8\">\r\n      <g>\r\n       <use style=\"stroke:#000000;stroke-width:0.8;\" x=\"36.650386\" xlink:href=\"#md6e2664611\" y=\"117.37618\"/>\r\n      </g>\r\n     </g>\r\n     <g id=\"text_9\">\r\n      <!-- $\\mathdefault{0.5}$ -->\r\n      <g transform=\"translate(20.420307 120.92534)scale(0.1 -0.1)\">\r\n       <use transform=\"scale(0.996264)\" xlink:href=\"#CMR17-30\"/>\r\n       <use transform=\"translate(45.690477 0)scale(0.996264)\" xlink:href=\"#CMMI12-3a\"/>\r\n       <use transform=\"translate(72.787654 0)scale(0.996264)\" xlink:href=\"#CMR17-35\"/>\r\n      </g>\r\n     </g>\r\n    </g>\r\n    <g id=\"ytick_3\">\r\n     <g id=\"line2d_9\">\r\n      <g>\r\n       <use style=\"stroke:#000000;stroke-width:0.8;\" x=\"36.650386\" xlink:href=\"#md6e2664611\" y=\"91.339905\"/>\r\n      </g>\r\n     </g>\r\n     <g id=\"text_10\">\r\n      <!-- $\\mathdefault{1.0}$ -->\r\n      <g transform=\"translate(20.420307 94.889066)scale(0.1 -0.1)\">\r\n       <use transform=\"scale(0.996264)\" xlink:href=\"#CMR17-31\"/>\r\n       <use transform=\"translate(45.690477 0)scale(0.996264)\" xlink:href=\"#CMMI12-3a\"/>\r\n       <use transform=\"translate(72.787654 0)scale(0.996264)\" xlink:href=\"#CMR17-30\"/>\r\n      </g>\r\n     </g>\r\n    </g>\r\n    <g id=\"ytick_4\">\r\n     <g id=\"line2d_10\">\r\n      <g>\r\n       <use style=\"stroke:#000000;stroke-width:0.8;\" x=\"36.650386\" xlink:href=\"#md6e2664611\" y=\"65.303631\"/>\r\n      </g>\r\n     </g>\r\n     <g id=\"text_11\">\r\n      <!-- $\\mathdefault{1.5}$ -->\r\n      <g transform=\"translate(20.420307 68.852791)scale(0.1 -0.1)\">\r\n       <use transform=\"scale(0.996264)\" xlink:href=\"#CMR17-31\"/>\r\n       <use transform=\"translate(45.690477 0)scale(0.996264)\" xlink:href=\"#CMMI12-3a\"/>\r\n       <use transform=\"translate(72.787654 0)scale(0.996264)\" xlink:href=\"#CMR17-35\"/>\r\n      </g>\r\n     </g>\r\n    </g>\r\n    <g id=\"ytick_5\">\r\n     <g id=\"line2d_11\">\r\n      <g>\r\n       <use style=\"stroke:#000000;stroke-width:0.8;\" x=\"36.650386\" xlink:href=\"#md6e2664611\" y=\"39.267356\"/>\r\n      </g>\r\n     </g>\r\n     <g id=\"text_12\">\r\n      <!-- $\\mathdefault{2.0}$ -->\r\n      <g transform=\"translate(20.420307 42.816516)scale(0.1 -0.1)\">\r\n       <defs>\r\n        <path d=\"M 2669 990 \r\nL 2554 990 \r\nC 2490 537 2438 460 2413 422 \r\nC 2381 371 1920 371 1830 371 \r\nL 602 371 \r\nC 832 620 1280 1073 1824 1596 \r\nC 2214 1966 2669 2400 2669 3033 \r\nC 2669 3788 2067 4224 1395 4224 \r\nC 691 4224 262 3603 262 3027 \r\nC 262 2777 448 2745 525 2745 \r\nC 589 2745 781 2783 781 3007 \r\nC 781 3206 614 3264 525 3264 \r\nC 486 3264 448 3257 422 3244 \r\nC 544 3788 915 4057 1306 4057 \r\nC 1862 4057 2227 3616 2227 3033 \r\nC 2227 2477 1901 1998 1536 1583 \r\nL 262 147 \r\nL 262 0 \r\nL 2515 0 \r\nL 2669 990 \r\nz\r\n\" id=\"CMR17-32\" transform=\"scale(0.015625)\"/>\r\n       </defs>\r\n       <use transform=\"scale(0.996264)\" xlink:href=\"#CMR17-32\"/>\r\n       <use transform=\"translate(45.690477 0)scale(0.996264)\" xlink:href=\"#CMMI12-3a\"/>\r\n       <use transform=\"translate(72.787654 0)scale(0.996264)\" xlink:href=\"#CMR17-30\"/>\r\n      </g>\r\n     </g>\r\n    </g>\r\n    <g id=\"text_13\">\r\n     <!-- $\\mathrm{Reconstruction\\;PDF}$ -->\r\n     <g transform=\"translate(14.29832 132.413701)rotate(-90)scale(0.1 -0.1)\">\r\n      <defs>\r\n       <path d=\"M 2509 2156 \r\nC 3117 2278 3629 2689 3629 3203 \r\nC 3629 3806 2950 4352 2054 4352 \r\nL 333 4352 \r\nL 333 4185 \r\nC 774 4185 845 4185 845 3896 \r\nL 845 428 \r\nC 845 140 774 140 333 140 \r\nL 333 -26 \r\nC 518 -13 851 -13 1050 -13 \r\nC 1248 -13 1581 -13 1766 -26 \r\nL 1766 140 \r\nC 1325 140 1254 140 1254 428 \r\nL 1254 2112 \r\nL 2003 2112 \r\nC 2368 2112 2573 1964 2662 1881 \r\nC 2918 1632 2918 1459 2918 1024 \r\nC 2918 595 2918 377 3110 160 \r\nC 3354 -103 3680 -128 3821 -128 \r\nC 4294 -128 4365 403 4365 512 \r\nC 4365 550 4365 595 4307 595 \r\nC 4256 595 4250 556 4250 531 \r\nC 4218 115 4032 -26 3834 -26 \r\nC 3482 -26 3443 377 3405 768 \r\nC 3386 902 3373 998 3360 1139 \r\nC 3322 1459 3270 1926 2509 2156 \r\nz\r\nM 1984 2214 \r\nL 1254 2214 \r\nL 1254 3935 \r\nC 1254 4153 1267 4185 1523 4185 \r\nL 1990 4185 \r\nC 2522 4185 3142 3999 3142 3203 \r\nC 3142 2374 2464 2214 1984 2214 \r\nz\r\n\" id=\"CMR17-52\" transform=\"scale(0.015625)\"/>\r\n       <path d=\"M 2656 1954 \r\nC 2656 2282 2592 2816 1837 2816 \r\nC 1331 2816 1069 2424 973 2166 \r\nL 966 2166 \r\nL 966 2816 \r\nL 211 2745 \r\nL 211 2578 \r\nC 589 2578 646 2540 646 2231 \r\nL 646 443 \r\nC 646 198 621 166 211 166 \r\nL 211 0 \r\nC 365 12 646 12 813 12 \r\nC 979 12 1267 12 1421 0 \r\nL 1421 166 \r\nC 1011 166 986 192 986 443 \r\nL 986 1678 \r\nC 986 2269 1344 2713 1792 2713 \r\nC 2266 2713 2317 2289 2317 1980 \r\nL 2317 443 \r\nC 2317 198 2291 166 1882 166 \r\nL 1882 0 \r\nC 2035 12 2317 12 2483 12 \r\nC 2650 12 2938 12 3091 0 \r\nL 3091 166 \r\nC 2682 166 2656 192 2656 443 \r\nL 2656 1954 \r\nz\r\n\" id=\"CMR17-6e\" transform=\"scale(0.015625)\"/>\r\n       <path d=\"M 1978 2688 \r\nC 1978 2803 1971 2809 1933 2809 \r\nC 1907 2809 1901 2803 1824 2707 \r\nC 1805 2681 1747 2617 1728 2592 \r\nC 1523 2809 1235 2816 1126 2816 \r\nC 416 2816 160 2444 160 2073 \r\nC 160 1497 813 1363 998 1324 \r\nC 1402 1241 1542 1216 1677 1100 \r\nC 1760 1024 1901 883 1901 652 \r\nC 1901 384 1747 38 1158 38 \r\nC 602 38 403 460 288 1024 \r\nC 269 1113 269 1120 218 1120 \r\nC 166 1120 160 1113 160 985 \r\nL 160 64 \r\nC 160 -52 166 -58 205 -58 \r\nC 237 -58 243 -52 275 0 \r\nC 314 57 410 211 448 275 \r\nC 576 102 800 -64 1158 -64 \r\nC 1792 -64 2131 281 2131 780 \r\nC 2131 1107 1958 1280 1875 1356 \r\nC 1683 1555 1459 1600 1190 1651 \r\nC 838 1728 390 1817 390 2208 \r\nC 390 2374 480 2726 1126 2726 \r\nC 1811 2726 1850 2086 1862 1881 \r\nC 1869 1849 1901 1843 1920 1843 \r\nC 1978 1843 1978 1862 1978 1971 \r\nL 1978 2688 \r\nz\r\n\" id=\"CMR17-73\" transform=\"scale(0.015625)\"/>\r\n       <path d=\"M 966 2585 \r\nL 1862 2585 \r\nL 1862 2752 \r\nL 966 2752 \r\nL 966 3968 \r\nL 851 3968 \r\nC 838 3292 614 2700 70 2687 \r\nL 70 2585 \r\nL 627 2585 \r\nL 627 778 \r\nC 627 655 627 -64 1370 -64 \r\nC 1747 -64 1965 308 1965 784 \r\nL 1965 1151 \r\nL 1850 1151 \r\nL 1850 790 \r\nC 1850 347 1677 51 1408 51 \r\nC 1222 51 966 179 966 765 \r\nL 966 2585 \r\nz\r\n\" id=\"CMR17-74\" transform=\"scale(0.015625)\"/>\r\n       <path d=\"M 1882 2745 \r\nL 1882 2579 \r\nC 2259 2579 2317 2540 2317 2229 \r\nL 2317 1053 \r\nC 2317 510 2029 38 1555 38 \r\nC 1030 38 986 355 986 691 \r\nL 986 2816 \r\nL 211 2745 \r\nL 211 2579 \r\nC 467 2579 640 2579 646 2320 \r\nL 646 1079 \r\nC 646 646 646 368 813 187 \r\nC 896 103 1056 -64 1517 -64 \r\nC 2061 -64 2272 400 2323 536 \r\nL 2330 536 \r\nL 2330 -64 \r\nL 3091 -13 \r\nL 3091 154 \r\nC 2714 154 2656 193 2656 503 \r\nL 2656 2816 \r\nL 1882 2745 \r\nz\r\n\" id=\"CMR17-75\" transform=\"scale(0.015625)\"/>\r\n       <path d=\"M 992 3961 \r\nC 992 4102 877 4224 730 4224 \r\nC 589 4224 467 4108 467 3961 \r\nC 467 3820 582 3699 730 3699 \r\nC 870 3699 992 3814 992 3961 \r\nz\r\nM 243 2745 \r\nL 243 2579 \r\nC 602 2579 653 2540 653 2231 \r\nL 653 443 \r\nC 653 198 627 166 218 166 \r\nL 218 0 \r\nC 371 12 646 12 806 12 \r\nC 960 12 1222 12 1370 0 \r\nL 1370 166 \r\nC 992 166 979 205 979 436 \r\nL 979 2816 \r\nL 243 2745 \r\nz\r\n\" id=\"CMR17-69\" transform=\"scale(0.015625)\"/>\r\n       <path d=\"M 1267 2048 \r\nL 2291 2048 \r\nC 3117 2048 3718 2583 3718 3187 \r\nC 3718 3791 3130 4352 2291 4352 \r\nL 333 4352 \r\nL 333 4185 \r\nC 774 4185 845 4185 845 3899 \r\nL 845 453 \r\nC 845 166 774 166 333 166 \r\nL 333 0 \r\nC 518 12 858 12 1056 12 \r\nC 1254 12 1594 12 1779 0 \r\nL 1779 166 \r\nC 1338 166 1267 166 1267 453 \r\nL 1267 2048 \r\nz\r\nM 1254 2182 \r\nL 1254 3937 \r\nC 1254 4153 1267 4185 1523 4185 \r\nL 2170 4185 \r\nC 2995 4185 3232 3715 3232 3187 \r\nC 3232 2608 2950 2182 2170 2182 \r\nL 1254 2182 \r\nz\r\n\" id=\"CMR17-50\" transform=\"scale(0.015625)\"/>\r\n       <path d=\"M 333 4352 \r\nL 333 4185 \r\nC 774 4185 845 4185 845 3898 \r\nL 845 453 \r\nC 845 166 774 166 333 166 \r\nL 333 0 \r\nL 2368 0 \r\nC 3398 0 4224 943 4224 2140 \r\nC 4224 3344 3411 4352 2368 4352 \r\nL 333 4352 \r\nz\r\nM 1523 166 \r\nC 1267 166 1254 198 1254 414 \r\nL 1254 3936 \r\nC 1254 4153 1267 4185 1523 4185 \r\nL 2240 4185 \r\nC 2771 4185 3750 3873 3750 2140 \r\nC 3750 1242 3488 879 3366 707 \r\nC 3213 510 2848 166 2240 166 \r\nL 1523 166 \r\nz\r\n\" id=\"CMR17-44\" transform=\"scale(0.015625)\"/>\r\n       <path d=\"M 3482 4339 \r\nL 326 4339 \r\nL 326 4172 \r\nC 768 4172 838 4172 838 3883 \r\nL 838 450 \r\nC 838 166 768 166 326 166 \r\nL 326 0 \r\nC 512 12 870 12 1069 12 \r\nC 1331 12 1638 12 1901 0 \r\nL 1901 166 \r\nL 1760 166 \r\nC 1274 166 1261 229 1261 456 \r\nL 1261 2073 \r\nL 1837 2073 \r\nC 2432 2073 2490 1865 2490 1334 \r\nL 2605 1334 \r\nL 2605 2991 \r\nL 2490 2991 \r\nC 2490 2451 2432 2240 1837 2240 \r\nL 1261 2240 \r\nL 1261 3922 \r\nC 1261 4140 1274 4172 1530 4172 \r\nL 2355 4172 \r\nC 3322 4172 3430 3774 3520 2920 \r\nL 3635 2920 \r\nL 3482 4339 \r\nz\r\n\" id=\"CMR17-46\" transform=\"scale(0.015625)\"/>\r\n      </defs>\r\n      <use transform=\"scale(0.996264)\" xlink:href=\"#CMR17-52\"/>\r\n      <use transform=\"translate(67.791102 0)scale(0.996264)\" xlink:href=\"#CMR17-65\"/>\r\n      <use transform=\"translate(108.276762 0)scale(0.996264)\" xlink:href=\"#CMR17-63\"/>\r\n      <use transform=\"translate(148.762423 0)scale(0.996264)\" xlink:href=\"#CMR17-6f\"/>\r\n      <use transform=\"translate(194.4529 0)scale(0.996264)\" xlink:href=\"#CMR17-6e\"/>\r\n      <use transform=\"translate(245.34827 0)scale(0.996264)\" xlink:href=\"#CMR17-73\"/>\r\n      <use transform=\"translate(281.149607 0)scale(0.996264)\" xlink:href=\"#CMR17-74\"/>\r\n      <use transform=\"translate(316.430375 0)scale(0.996264)\" xlink:href=\"#CMR17-72\"/>\r\n      <use transform=\"translate(351.711143 0)scale(0.996264)\" xlink:href=\"#CMR17-75\"/>\r\n      <use transform=\"translate(402.606513 0)scale(0.996264)\" xlink:href=\"#CMR17-63\"/>\r\n      <use transform=\"translate(443.092173 0)scale(0.996264)\" xlink:href=\"#CMR17-74\"/>\r\n      <use transform=\"translate(478.372941 0)scale(0.996264)\" xlink:href=\"#CMR17-69\"/>\r\n      <use transform=\"translate(503.244 0)scale(0.996264)\" xlink:href=\"#CMR17-6f\"/>\r\n      <use transform=\"translate(548.934477 0)scale(0.996264)\" xlink:href=\"#CMR17-6e\"/>\r\n      <use transform=\"translate(627.503855 0)scale(0.996264)\" xlink:href=\"#CMR17-50\"/>\r\n      <use transform=\"translate(690.090156 0)scale(0.996264)\" xlink:href=\"#CMR17-44\"/>\r\n      <use transform=\"translate(760.483712 0)scale(0.996264)\" xlink:href=\"#CMR17-46\"/>\r\n     </g>\r\n    </g>\r\n    <g id=\"text_14\">\r\n     <!-- $\\times\\mathdefault{10^{−6}}\\mathdefault{}$ -->\r\n     <g transform=\"translate(36.650386 23.662)scale(0.1 -0.1)\">\r\n      <defs>\r\n       <path d=\"M 2490 1775 \r\nL 1210 3046 \r\nC 1133 3123 1120 3136 1069 3136 \r\nC 1005 3136 941 3078 941 3008 \r\nC 941 2963 954 2950 1024 2880 \r\nL 2304 1596 \r\nL 1024 313 \r\nC 954 243 941 230 941 185 \r\nC 941 115 1005 57 1069 57 \r\nC 1120 57 1133 70 1210 147 \r\nL 2483 1418 \r\nL 3808 95 \r\nC 3821 89 3866 57 3904 57 \r\nC 3981 57 4032 115 4032 185 \r\nC 4032 198 4032 223 4013 255 \r\nC 4006 268 2989 1271 2669 1596 \r\nL 3840 2765 \r\nC 3872 2803 3968 2886 4000 2925 \r\nC 4006 2937 4032 2963 4032 3008 \r\nC 4032 3078 3981 3136 3904 3136 \r\nC 3853 3136 3827 3110 3757 3040 \r\nL 2490 1775 \r\nz\r\n\" id=\"CMSY10-2\" transform=\"scale(0.015625)\"/>\r\n       <path d=\"M 4218 1472 \r\nC 4326 1472 4442 1472 4442 1600 \r\nC 4442 1728 4326 1728 4218 1728 \r\nL 755 1728 \r\nC 646 1728 531 1728 531 1600 \r\nC 531 1472 646 1472 755 1472 \r\nL 4218 1472 \r\nz\r\n\" id=\"CMSY10-0\" transform=\"scale(0.015625)\"/>\r\n      </defs>\r\n      <use transform=\"scale(0.996264)\" xlink:href=\"#CMSY10-2\"/>\r\n      <use transform=\"translate(77.487468 0)scale(0.996264)\" xlink:href=\"#CMR17-31\"/>\r\n      <use transform=\"translate(123.177945 0)scale(0.996264)\" xlink:href=\"#CMR17-30\"/>\r\n      <use transform=\"translate(168.868422 36.153639)scale(0.697382)\" xlink:href=\"#CMSY10-0\"/>\r\n      <use transform=\"translate(223.109415 36.153639)scale(0.697382)\" xlink:href=\"#CMR17-36\"/>\r\n     </g>\r\n    </g>\r\n   </g>\r\n   <g id=\"line2d_12\">\r\n    <path clip-path=\"url(#pa98eff0a25)\" d=\"M 39.998386 63.879523 \r\nL 39.998386 58.928917 \r\nL 46.694386 58.928917 \r\nL 46.694386 55.261217 \r\nL 53.390386 55.261217 \r\nL 53.390386 51.593517 \r\nL 60.086386 51.593517 \r\nL 60.086386 48.12052 \r\nL 66.782386 48.12052 \r\nL 66.782386 44.752362 \r\nL 73.478386 44.752362 \r\nL 73.478386 41.425799 \r\nL 80.174386 41.425799 \r\nL 80.174386 39.097521 \r\nL 86.870386 39.097521 \r\nL 86.870386 36.769242 \r\nL 93.566386 36.769242 \r\nL 93.566386 34.863938 \r\nL 100.262386 34.863938 \r\nL 100.262386 33.542742 \r\nL 106.958386 33.542742 \r\nL 106.958386 32.221545 \r\nL 113.654386 32.221545 \r\nL 113.654386 39.126821 \r\nL 120.350386 39.126821 \r\nL 120.350386 47.961762 \r\nL 127.046386 47.961762 \r\nL 127.046386 58.872732 \r\nL 133.742386 58.872732 \r\nL 133.742386 78.087816 \r\nL 140.438386 78.087816 \r\nL 140.438386 97.302899 \r\nL 147.134386 97.302899 \r\nL 147.134386 112.295053 \r\nL 153.830386 112.295053 \r\nL 153.830386 124.352629 \r\nL 160.526386 124.352629 \r\nL 160.526386 136.410205 \r\nL 167.222386 136.410205 \r\nL 167.222386 138.868658 \r\nL 173.918386 138.868658 \r\nL 173.918386 141.13121 \r\nL 180.614386 141.13121 \r\nL 180.614386 142.655034 \r\nL 187.310386 142.655034 \r\nL 187.310386 142.921023 \r\nL 194.006386 142.921023 \r\nL 194.006386 143.187013 \r\nL 200.702386 143.187013 \r\nL 200.702386 143.285131 \r\nL 207.398386 143.285131 \r\nL 207.398386 143.327291 \r\nL 214.094386 143.327291 \r\nL 214.094386 143.412455 \r\nL 218.615425 143.412455 \r\n\" style=\"fill:none;stroke:#008000;stroke-linecap:square;\"/>\r\n   </g>\r\n   <g id=\"line2d_13\">\r\n    <path clip-path=\"url(#pa98eff0a25)\" d=\"M 170.570386 148.972 \r\nL 170.570386 26.662 \r\n\" style=\"fill:none;stroke:#000000;stroke-linecap:square;\"/>\r\n   </g>\r\n   <g id=\"patch_3\">\r\n    <path d=\"M 36.650386 148.972 \r\nL 36.650386 26.662 \r\n\" style=\"fill:none;stroke:#000000;stroke-linecap:square;stroke-linejoin:miter;stroke-width:0.8;\"/>\r\n   </g>\r\n   <g id=\"patch_4\">\r\n    <path d=\"M 204.050386 148.972 \r\nL 204.050386 26.662 \r\n\" style=\"fill:none;stroke:#000000;stroke-linecap:square;stroke-linejoin:miter;stroke-width:0.8;\"/>\r\n   </g>\r\n   <g id=\"patch_5\">\r\n    <path d=\"M 36.650386 148.972 \r\nL 204.050386 148.972 \r\n\" style=\"fill:none;stroke:#000000;stroke-linecap:square;stroke-linejoin:miter;stroke-width:0.8;\"/>\r\n   </g>\r\n   <g id=\"patch_6\">\r\n    <path d=\"M 36.650386 26.662 \r\nL 204.050386 26.662 \r\n\" style=\"fill:none;stroke:#000000;stroke-linecap:square;stroke-linejoin:miter;stroke-width:0.8;\"/>\r\n   </g>\r\n   <g id=\"legend_1\">\r\n    <g id=\"line2d_14\">\r\n     <path d=\"M 91.938834 14.79832 \r\nL 101.938834 14.79832 \r\n\" style=\"fill:none;stroke:#000000;stroke-linecap:square;\"/>\r\n    </g>\r\n    <g id=\"line2d_15\"/>\r\n    <g id=\"text_15\">\r\n     <!-- $1\\;\\mathrm{PeV}\\; \\nu_\\mu$ -->\r\n     <g transform=\"translate(109.938834 18.29832)scale(0.1 -0.1)\">\r\n      <defs>\r\n       <path d=\"M 1408 2751 \r\nC 1408 2777 1389 2816 1338 2816 \r\nC 1293 2816 691 2758 595 2751 \r\nC 525 2745 461 2739 461 2623 \r\nC 461 2559 512 2559 602 2559 \r\nC 902 2559 922 2515 922 2445 \r\nC 922 2419 909 2343 902 2317 \r\nL 339 64 \r\nC 339 38 358 0 403 0 \r\nL 538 0 \r\nC 627 0 1600 230 2349 996 \r\nC 3174 1845 3290 2630 3290 2655 \r\nC 3290 2758 3206 2816 3123 2816 \r\nC 2938 2816 2893 2643 2880 2598 \r\nC 2502 1264 1626 472 774 192 \r\nL 1408 2751 \r\nz\r\n\" id=\"CMMI12-17\" transform=\"scale(0.015625)\"/>\r\n       <path d=\"M 922 140 \r\nC 1082 -7 1318 -64 1536 -64 \r\nC 1946 -64 2227 210 2374 408 \r\nC 2438 70 2707 -64 2931 -64 \r\nC 3123 -64 3277 51 3392 281 \r\nC 3494 498 3584 887 3584 913 \r\nC 3584 944 3558 970 3520 970 \r\nC 3462 970 3456 938 3430 842 \r\nC 3334 466 3213 64 2950 64 \r\nC 2765 64 2752 229 2752 357 \r\nC 2752 504 2810 734 2854 925 \r\nL 3034 1615 \r\nC 3059 1736 3130 2023 3162 2138 \r\nC 3200 2291 3270 2566 3270 2591 \r\nC 3270 2687 3194 2752 3098 2752 \r\nC 3040 2752 2906 2726 2854 2534 \r\nL 2406 759 \r\nC 2374 632 2374 619 2291 517 \r\nC 2214 408 1965 64 1562 64 \r\nC 1203 64 1088 325 1088 625 \r\nC 1088 811 1146 1034 1171 1143 \r\nL 1459 2292 \r\nC 1491 2413 1542 2617 1542 2656 \r\nC 1542 2758 1459 2816 1376 2816 \r\nC 1318 2816 1178 2796 1126 2592 \r\nL 198 -1085 \r\nC 192 -1116 179 -1154 179 -1191 \r\nC 179 -1287 256 -1351 352 -1351 \r\nC 538 -1351 576 -1204 621 -1029 \r\nL 922 140 \r\nz\r\n\" id=\"CMMI12-16\" transform=\"scale(0.015625)\"/>\r\n      </defs>\r\n      <use transform=\"scale(0.996264)\" xlink:href=\"#CMR17-31\"/>\r\n      <use transform=\"translate(73.364486 0)scale(0.996264)\" xlink:href=\"#CMR17-50\"/>\r\n      <use transform=\"translate(133.348332 0)scale(0.996264)\" xlink:href=\"#CMR17-65\"/>\r\n      <use transform=\"translate(173.833993 0)scale(0.996264)\" xlink:href=\"#CMR17-56\"/>\r\n      <use transform=\"translate(271.881598 0)scale(0.996264)\" xlink:href=\"#CMMI12-17\"/>\r\n      <use transform=\"translate(320.08008 -14.943915)scale(0.697382)\" xlink:href=\"#CMMI12-16\"/>\r\n     </g>\r\n    </g>\r\n   </g>\r\n   <g id=\"legend_2\">\r\n    <g id=\"line2d_16\">\r\n     <path d=\"M 91.938834 14.79832 \r\nL 101.938834 14.79832 \r\n\" style=\"fill:none;stroke:#000000;stroke-linecap:square;\"/>\r\n    </g>\r\n    <g id=\"line2d_17\"/>\r\n    <g id=\"text_16\">\r\n     <!-- $1\\;\\mathrm{PeV}\\; \\nu_\\mu$ -->\r\n     <g transform=\"translate(109.938834 18.29832)scale(0.1 -0.1)\">\r\n      <use transform=\"scale(0.996264)\" xlink:href=\"#CMR17-31\"/>\r\n      <use transform=\"translate(73.364486 0)scale(0.996264)\" xlink:href=\"#CMR17-50\"/>\r\n      <use transform=\"translate(133.348332 0)scale(0.996264)\" xlink:href=\"#CMR17-65\"/>\r\n      <use transform=\"translate(173.833993 0)scale(0.996264)\" xlink:href=\"#CMR17-56\"/>\r\n      <use transform=\"translate(271.881598 0)scale(0.996264)\" xlink:href=\"#CMMI12-17\"/>\r\n      <use transform=\"translate(320.08008 -14.943915)scale(0.697382)\" xlink:href=\"#CMMI12-16\"/>\r\n     </g>\r\n    </g>\r\n   </g>\r\n  </g>\r\n </g>\r\n <defs>\r\n  <clipPath id=\"pa98eff0a25\">\r\n   <rect height=\"122.31\" width=\"167.4\" x=\"36.650386\" y=\"26.662\"/>\r\n  </clipPath>\r\n </defs>\r\n</svg>\r\n",
      "image/png": "[encoded data removed]"
     },
     "metadata": {
      "needs_background": "light"
     }
    }
   ],
   "metadata": {}
  },
  {
   "cell_type": "code",
   "execution_count": 107,
   "source": [
    "# Loading weights\r\n",
    "def weight_constructor(path_to_file: str) -> UnivariateSpline:\r\n",
    "    \"\"\" constructes the energy weights for the IceCube events\r\n",
    "\r\n",
    "    Parameters\r\n",
    "    ----------\r\n",
    "    path_to_file : str\r\n",
    "        The theoretical preidcitons for the counts\r\n",
    "\r\n",
    "    Returns\r\n",
    "    -------\r\n",
    "    weights : UnivariateSpline\r\n",
    "        Spline which returns the weight corresponding to the input energy\r\n",
    "        as log_10(E/GeV)\r\n",
    "    \"\"\"\r\n",
    "    theoretical_predictions = pickle.load(open(path_to_file, \"rb\"))\r\n",
    "    egrid = theoretical_predictions[0]\r\n",
    "    weights_arr = np.nan_to_num(theoretical_predictions[2] / theoretical_predictions[3])\r\n",
    "    # weights_arr[weights_arr > 1] = 1\r\n",
    "    return UnivariateSpline(egrid, weights_arr, k=1, s=0)\r\n",
    "# weights = weight_constructor(\"..\\\\data\\\\simulated_data_bkgrd_store_benchmark.pkl\")\r\n",
    "weights = pickle.load(open(\"..\\\\data\\\\weights.pkl\", \"rb\"))"
   ],
   "outputs": [],
   "metadata": {}
  },
  {
   "cell_type": "code",
   "execution_count": 108,
   "source": [
    "def data_filter(event_dic, energy_range, angle_range, years):\r\n",
    "    # filters the data in energy and angle\r\n",
    "    filtered_dic = {}\r\n",
    "    for year in years:\r\n",
    "        # where method is faster as basic slicing\r\n",
    "        energy_filter_1 = event_dic[year][np.where(event_dic[year][:, 1] < energy_range[1])]\r\n",
    "        energy_filter_2 = energy_filter_1[np.where(energy_filter_1[:, 1] > energy_range[0])]\r\n",
    "        high_angle = angle_range[1]\r\n",
    "        angle_filter_1 = energy_filter_2[np.where(energy_filter_2[:, 4] < high_angle)]\r\n",
    "        low_angle = angle_range[0]\r\n",
    "        angle_filter_2 = angle_filter_1[np.where(angle_filter_1[:, 4] > low_angle)]\r\n",
    "        filtered_dic[year] = angle_filter_2\r\n",
    "    return filtered_dic\r\n",
    "filtered_data = data_filter(event_dic, [4., 9.], [0., 10.], [0, 1, 2, 3, 4, 5, 6, 7, 8, 9])"
   ],
   "outputs": [],
   "metadata": {}
  },
  {
   "cell_type": "code",
   "execution_count": 109,
   "source": [
    "# Construct weighted events\r\n",
    "def weighted_events(event_dic, weight_func, years):\r\n",
    "    weighted_data = []\r\n",
    "    for year in years:\r\n",
    "        weighted_data.append(np.array([\r\n",
    "            event_dic[year][:, 3],\r\n",
    "            event_dic[year][:, 4],\r\n",
    "            weight_func(event_dic[year][:, 1]),\r\n",
    "            event_dic[year][:, 2]\r\n",
    "        ]))\r\n",
    "        weighted_data[-1] = weighted_data[-1].T\r\n",
    "    return np.concatenate([weighted_data[year] for year in years])\r\n",
    "weighted_data = weighted_events(filtered_data, weights, range(10))"
   ],
   "outputs": [],
   "metadata": {}
  },
  {
   "cell_type": "code",
   "execution_count": 110,
   "source": [
    "# The sky grid\r\n",
    "minimal_resolution = 0.2\r\n",
    "ra_grid = np.arange(0., 360., 0.2)\r\n",
    "decl_grid = np.arange(0., 10., 0.2)"
   ],
   "outputs": [],
   "metadata": {}
  },
  {
   "cell_type": "code",
   "execution_count": 111,
   "source": [
    "# Binning function\r\n",
    "def binning_function(event_dic, ra_grid, decl_grid):\r\n",
    "    # The density grid\r\n",
    "    density_grid = np.zeros((len(decl_grid), len(ra_grid)))\r\n",
    "    for event in event_dic:\r\n",
    "        # Finding grid points to add to\r\n",
    "        # RA\r\n",
    "        single_ra = False\r\n",
    "        idra_low = (np.abs(ra_grid - (event[0] - event[3]))).argmin()\r\n",
    "        idra_high = (np.abs(ra_grid - (event[0] + event[3]))).argmin()\r\n",
    "        if idra_high == idra_low:\r\n",
    "            single_ra = True\r\n",
    "        # Declination\r\n",
    "        single_dec = False\r\n",
    "        iddec_low = (np.abs(decl_grid - (event[1] - event[3]))).argmin()\r\n",
    "        iddec_high = (np.abs(decl_grid - (event[1] + event[3]))).argmin()\r\n",
    "        if iddec_low == iddec_high:\r\n",
    "            single_dec = True\r\n",
    "        # Binning\r\n",
    "        if (not single_ra) and (not single_dec):\r\n",
    "            density_grid[iddec_low:iddec_high, idra_low:idra_high] += event[2]\r\n",
    "        elif single_ra and (not single_dec):\r\n",
    "            density_grid[iddec_low:iddec_high, idra_low] += event[2]\r\n",
    "        elif (not single_ra) and single_dec:\r\n",
    "            density_grid[iddec_low, idra_low:idra_high] += event[2]\r\n",
    "        else:\r\n",
    "            density_grid[iddec_low, idra_low] += event[2]\r\n",
    "    return density_grid\r\n",
    "density_grid = binning_function(weighted_data, ra_grid, decl_grid)"
   ],
   "outputs": [],
   "metadata": {}
  },
  {
   "cell_type": "code",
   "execution_count": 112,
   "source": [
    "# Binning function\r\n",
    "def binning_function_v3(event_dic, ra_grid, decl_grid):\r\n",
    "    density_grid = np.zeros((len(decl_grid), len(ra_grid)))\r\n",
    "    box_to_check = np.arange(-5., 5., 0.2)\r\n",
    "    ll  = int(len(box_to_check) / 2)\r\n",
    "    distance_grid_x, distance_grid_y = np.meshgrid(box_to_check, box_to_check)\r\n",
    "    distance_grid = np.sqrt(\r\n",
    "            (distance_grid_x)**2. +\r\n",
    "            (distance_grid_y)**2\r\n",
    "    )\r\n",
    "    for event in event_dic:\r\n",
    "        # RA\r\n",
    "        idra = (np.abs(ra_grid - (event[0]))).argmin()\r\n",
    "        # Declination\r\n",
    "        iddec = (\r\n",
    "            (np.abs(decl_grid - (event[1]))).argmin()\r\n",
    "        )\r\n",
    "        # Fixing lower bounds\r\n",
    "        lb_dec = iddec - ll\r\n",
    "        lb_dec_diff = 0\r\n",
    "        if lb_dec < 0:\r\n",
    "            lb_dec_diff = np.abs(lb_dec)\r\n",
    "            lb_dec = 0\r\n",
    "        lb_ra = idra - ll\r\n",
    "        lb_ra_diff = 0\r\n",
    "        if lb_ra < 0:\r\n",
    "            lb_ra_diff = np.abs(lb_ra)\r\n",
    "            lb_ra = 0\r\n",
    "        # Fixing upper bounds\r\n",
    "        up_dec = iddec + ll\r\n",
    "        up_dec_diff = 0\r\n",
    "        if up_dec > len(decl_grid):\r\n",
    "            up_dec_diff = up_dec - len(decl_grid)\r\n",
    "            up_dec = len(decl_grid)\r\n",
    "        up_ra = idra + ll\r\n",
    "        up_ra_diff = 0\r\n",
    "        if up_ra > len(ra_grid):\r\n",
    "            up_ra_diff = up_ra - len(ra_grid)\r\n",
    "            up_ra = len(ra_grid)\r\n",
    "        distance_weights = norm.pdf(\r\n",
    "            distance_grid[lb_dec_diff:2*ll-up_dec_diff,\r\n",
    "                          lb_ra_diff:2*ll-up_ra_diff],\r\n",
    "            scale=event[3]\r\n",
    "        )\r\n",
    "        density_grid[lb_dec:up_dec, lb_ra:up_ra] += (\r\n",
    "            (distance_weights * event[2])\r\n",
    "        )\r\n",
    "    return np.flip(density_grid, axis=0)\r\n",
    "density_grid_v3 = binning_function_v3(weighted_data, ra_grid, decl_grid[::-1])"
   ],
   "outputs": [],
   "metadata": {}
  },
  {
   "cell_type": "code",
   "execution_count": 113,
   "source": [
    "def coordinate_trafo(radians):\r\n",
    "    new_grid = np.copy(radians)\r\n",
    "    new_grid[new_grid > np.pi] = new_grid[new_grid > np.pi] - 2. * np.pi\r\n",
    "    return new_grid"
   ],
   "outputs": [],
   "metadata": {}
  },
  {
   "cell_type": "code",
   "execution_count": 114,
   "source": [
    "# Signal density constructor\r\n",
    "def signal_density_constructor_v3(energy_id, number_of_sources,\r\n",
    "                               flux_norm, seed, angle_uncer=0.5):\r\n",
    "    rand_state = np.random.RandomState(seed)\r\n",
    "    declination_sample = rand_state.uniform(\r\n",
    "        0., 10., size=(number_of_sources)\r\n",
    "    )\r\n",
    "    ra_sample = rand_state.uniform(\r\n",
    "        0., 360., size=(number_of_sources)\r\n",
    "    )\r\n",
    "    years = rand_state.randint(0, 9, size=(number_of_sources))\r\n",
    "    count_distros = np.array([\r\n",
    "        sim_to_dec(energy_id, declination_sample[ids], years[ids]) * flux_norm\r\n",
    "        for ids in range(number_of_sources)\r\n",
    "    ])\r\n",
    "    events = np.array([[\r\n",
    "        rand_state.poisson(counts) for counts in count_distro\r\n",
    "    ] for count_distro in count_distros])\r\n",
    "    reweighted_events = np.array([\r\n",
    "        set_events * weights(np.log10(m_egrid))\r\n",
    "        for set_events in events\r\n",
    "    ])\r\n",
    "    density_grid = np.zeros((len(decl_grid), len(ra_grid)))\r\n",
    "    box_to_check = np.arange(-5., 5., 0.2)\r\n",
    "    ll  = int(len(box_to_check) / 2)\r\n",
    "    distance_grid_x, distance_grid_y = np.meshgrid(box_to_check, box_to_check)\r\n",
    "    distance_grid = np.sqrt(\r\n",
    "            (distance_grid_x)**2. +\r\n",
    "            (distance_grid_y)**2\r\n",
    "    )\r\n",
    "    for set_id in range(number_of_sources):\r\n",
    "        for event in reweighted_events[set_id]:\r\n",
    "            # RA\r\n",
    "            idra = (np.abs(ra_grid - (ra_sample[set_id]))).argmin()\r\n",
    "            # Declination\r\n",
    "            iddec = (\r\n",
    "                (np.abs(decl_grid - (declination_sample[set_id]))).argmin()\r\n",
    "            )\r\n",
    "            # Fixing lower bounds\r\n",
    "            lb_dec = iddec - ll\r\n",
    "            lb_dec_diff = 0\r\n",
    "            if lb_dec < 0:\r\n",
    "                lb_dec_diff = np.abs(lb_dec)\r\n",
    "                lb_dec = 0\r\n",
    "            lb_ra = idra - ll\r\n",
    "            lb_ra_diff = 0\r\n",
    "            if lb_ra < 0:\r\n",
    "                lb_ra_diff = np.abs(lb_ra)\r\n",
    "                lb_ra = 0\r\n",
    "            # Fixing upper bounds\r\n",
    "            up_dec = iddec + ll\r\n",
    "            up_dec_diff = 0\r\n",
    "            if up_dec > len(decl_grid):\r\n",
    "                up_dec_diff = up_dec - len(decl_grid)\r\n",
    "                up_dec = len(decl_grid)\r\n",
    "            up_ra = idra + ll\r\n",
    "            up_ra_diff = 0\r\n",
    "            if up_ra > len(ra_grid):\r\n",
    "                up_ra_diff = up_ra - len(ra_grid)\r\n",
    "                up_ra = len(ra_grid)\r\n",
    "            distance_weights = norm.pdf(\r\n",
    "                distance_grid[lb_dec_diff:2*ll-up_dec_diff,\r\n",
    "                            lb_ra_diff:2*ll-up_ra_diff],\r\n",
    "                scale=angle_uncer\r\n",
    "            )\r\n",
    "            density_grid[lb_dec:up_dec, lb_ra:up_ra] += (\r\n",
    "                (distance_weights * event)\r\n",
    "            )\r\n",
    "    return np.flip(density_grid, axis=0)"
   ],
   "outputs": [],
   "metadata": {}
  },
  {
   "cell_type": "code",
   "execution_count": 115,
   "source": [
    "signal_density_v3 = signal_density_constructor_v3(\r\n",
    "    21, 12, 1e-20, 10, angle_uncer=1.5\r\n",
    ")\r\n",
    "signal_density_v3[signal_density_v3 > 0]"
   ],
   "outputs": [
    {
     "output_type": "execute_result",
     "data": {
      "text/plain": [
       "array([3.12789831, 3.51105608, 3.87170372, ..., 0.02048053, 0.01372851,\n",
       "       0.00904034])"
      ]
     },
     "metadata": {},
     "execution_count": 115
    }
   ],
   "metadata": {}
  },
  {
   "cell_type": "code",
   "execution_count": 116,
   "source": [
    "# Using a projection so others have something to look at\r\n",
    "fig = plt.figure(figsize=(10, 8))\r\n",
    "plt.subplot(projection=\"mollweide\")\r\n",
    "traf_RA = coordinate_trafo(np.deg2rad(ra_grid))\r\n",
    "plt.imshow(density_grid_v3 + signal_density_v3,\r\n",
    "           extent=(np.amin(traf_RA), np.amax(traf_RA),\r\n",
    "                   np.amin(np.deg2rad(decl_grid)),\r\n",
    "                   np.amax(np.deg2rad(decl_grid))),\r\n",
    "           cmap=cm.hot, origin='lower', vmax=1)\r\n",
    "plt.savefig(\"..\\\\pics\\\\heat_skymap_signal_v3.png\", dpi=100)"
   ],
   "outputs": [
    {
     "output_type": "display_data",
     "data": {
      "text/plain": [
       "<Figure size 720x576 with 1 Axes>"
      ],
      "image/svg+xml": "<?xml version=\"1.0\" encoding=\"utf-8\" standalone=\"no\"?>\r\n<!DOCTYPE svg PUBLIC \"-//W3C//DTD SVG 1.1//EN\"\r\n  \"http://www.w3.org/Graphics/SVG/1.1/DTD/svg11.dtd\">\r\n<svg height=\"457.047252pt\" version=\"1.1\" viewBox=\"0 0 471.055865 457.047252\" width=\"471.055865pt\" xmlns=\"http://www.w3.org/2000/svg\" xmlns:xlink=\"http://www.w3.org/1999/xlink\">\r\n <metadata>\r\n  <rdf:RDF xmlns:cc=\"http://creativecommons.org/ns#\" xmlns:dc=\"http://purl.org/dc/elements/1.1/\" xmlns:rdf=\"http://www.w3.org/1999/02/22-rdf-syntax-ns#\">\r\n   <cc:Work>\r\n    <dc:type rdf:resource=\"http://purl.org/dc/dcmitype/StillImage\"/>\r\n    <dc:date>2021-09-01T10:09:48.414819</dc:date>\r\n    <dc:format>image/svg+xml</dc:format>\r\n    <dc:creator>\r\n     <cc:Agent>\r\n      <dc:title>Matplotlib v3.4.2, https://matplotlib.org/</dc:title>\r\n     </cc:Agent>\r\n    </dc:creator>\r\n   </cc:Work>\r\n  </rdf:RDF>\r\n </metadata>\r\n <defs>\r\n  <style type=\"text/css\">*{stroke-linecap:butt;stroke-linejoin:round;}</style>\r\n </defs>\r\n <g id=\"figure_1\">\r\n  <g id=\"patch_1\">\r\n   <path d=\"M 0 457.047252 \r\nL 471.055865 457.047252 \r\nL 471.055865 0 \r\nL 0 0 \r\nz\r\n\" style=\"fill:none;\"/>\r\n  </g>\r\n  <g id=\"axes_1\">\r\n   <g id=\"patch_2\">\r\n    <path d=\"M 246.415865 445.963626 \r\nC 304.081627 445.963626 359.393312 423.052776 400.169163 382.276925 \r\nC 440.945014 341.501073 463.855865 286.189388 463.855865 228.523626 \r\nC 463.855865 170.857864 440.945014 115.546179 400.169163 74.770328 \r\nC 359.393312 33.994476 304.081627 11.083626 246.415865 11.083626 \r\nC 188.750103 11.083626 133.438417 33.994476 92.662566 74.770328 \r\nC 51.886715 115.546179 28.975865 170.857864 28.975865 228.523626 \r\nC 28.975865 286.189388 51.886715 341.501073 92.662566 382.276925 \r\nC 133.438417 423.052776 188.750103 445.963626 246.415865 445.963626 \r\nz\r\n\" style=\"fill:#ffffff;\"/>\r\n   </g>\r\n   <g clip-path=\"url(#p0691631388)\">\r\n    <image height=\"29\" id=\"imaged36e2646b0\" transform=\"scale(1 -1)translate(0 -29)\" width=\"434\" x=\"29.217465\" xlink:href=\"data:image/png;base64,\r\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\" y=\"-199.523626\"/>\r\n   </g>\r\n   <g id=\"matplotlib.axis_1\">\r\n    <g id=\"xtick_1\">\r\n     <g id=\"text_1\">\r\n      <!-- -150° -->\r\n      <g transform=\"translate(53.25584 222.40164)scale(0.1 -0.1)\">\r\n       <defs>\r\n        <path d=\"M 1818 1996 \r\nL 294 1996 \r\nL 294 1536 \r\nL 1818 1536 \r\nL 1818 1996 \r\nz\r\n\" id=\"NimbusSanL-Regu-2d\" transform=\"scale(0.015625)\"/>\r\n        <path d=\"M 1658 3232 \r\nL 1658 0 \r\nL 2221 0 \r\nL 2221 4537 \r\nL 1850 4537 \r\nC 1651 3840 1523 3744 653 3635 \r\nL 653 3232 \r\nL 1658 3232 \r\nz\r\n\" id=\"NimbusSanL-Regu-31\" transform=\"scale(0.015625)\"/>\r\n        <path d=\"M 3046 4544 \r\nL 704 4544 \r\nL 365 2076 \r\nL 883 2076 \r\nC 1146 2387 1363 2496 1715 2496 \r\nC 2323 2496 2707 2082 2707 1414 \r\nC 2707 765 2330 371 1715 371 \r\nC 1222 371 922 619 787 1128 \r\nL 224 1128 \r\nC 301 759 365 581 499 415 \r\nC 755 70 1216 -128 1728 -128 \r\nC 2643 -128 3283 536 3283 1490 \r\nC 3283 2381 2688 2995 1818 2995 \r\nC 1498 2995 1242 2912 979 2720 \r\nL 1158 3987 \r\nL 3046 3987 \r\nL 3046 4544 \r\nz\r\n\" id=\"NimbusSanL-Regu-35\" transform=\"scale(0.015625)\"/>\r\n        <path d=\"M 1760 4544 \r\nC 1338 4544 954 4358 717 4044 \r\nC 422 3649 275 3043 275 2207 \r\nC 275 683 787 -128 1760 -128 \r\nC 2720 -128 3245 683 3245 2169 \r\nC 3245 3049 3104 3636 2803 4044 \r\nC 2566 4364 2189 4544 1760 4544 \r\nz\r\nM 1760 4044 \r\nC 2368 4044 2669 3432 2669 2220 \r\nC 2669 938 2374 339 1747 339 \r\nC 1152 339 851 964 851 2201 \r\nC 851 3438 1152 4044 1760 4044 \r\nz\r\n\" id=\"NimbusSanL-Regu-30\" transform=\"scale(0.015625)\"/>\r\n        <path d=\"M 1939 4416 \r\nC 1402 4416 966 3979 966 3436 \r\nC 966 2894 1402 2451 1926 2451 \r\nC 2470 2451 2906 2881 2906 3436 \r\nC 2906 3979 2470 4416 1939 4416 \r\nz\r\nM 1939 4051 \r\nC 2272 4051 2541 3776 2541 3436 \r\nC 2541 3090 2272 2816 1926 2816 \r\nC 1606 2816 1331 3097 1331 3436 \r\nC 1331 3770 1606 4051 1939 4051 \r\nz\r\n\" id=\"NimbusSanL-Regu-b0\" transform=\"scale(0.015625)\"/>\r\n       </defs>\r\n       <use transform=\"scale(0.996264)\" xlink:href=\"#NimbusSanL-Regu-2d\"/>\r\n       <use transform=\"translate(33.17523 0)scale(0.996264)\" xlink:href=\"#NimbusSanL-Regu-31\"/>\r\n       <use transform=\"translate(88.566907 0)scale(0.996264)\" xlink:href=\"#NimbusSanL-Regu-35\"/>\r\n       <use transform=\"translate(143.958584 0)scale(0.996264)\" xlink:href=\"#NimbusSanL-Regu-30\"/>\r\n       <use transform=\"translate(199.350261 0)scale(0.996264)\" xlink:href=\"#NimbusSanL-Regu-b0\"/>\r\n      </g>\r\n     </g>\r\n    </g>\r\n    <g id=\"xtick_2\">\r\n     <g id=\"text_2\">\r\n      <!-- -120° -->\r\n      <g transform=\"translate(89.49584 222.40164)scale(0.1 -0.1)\">\r\n       <defs>\r\n        <path d=\"M 3238 556 \r\nL 851 556 \r\nC 909 928 1114 1165 1670 1493 \r\nL 2310 1839 \r\nC 2944 2185 3270 2653 3270 3211 \r\nC 3270 3589 3117 3942 2848 4185 \r\nC 2579 4428 2246 4544 1818 4544 \r\nC 1242 4544 813 4339 563 3955 \r\nC 403 3711 333 3429 320 2967 \r\nL 883 2967 \r\nC 902 3275 941 3461 1018 3608 \r\nC 1165 3884 1459 4051 1798 4051 \r\nC 2310 4051 2694 3685 2694 3198 \r\nC 2694 2839 2483 2531 2080 2300 \r\nL 1491 1967 \r\nC 544 1428 269 999 218 0 \r\nL 3238 0 \r\nL 3238 556 \r\nz\r\n\" id=\"NimbusSanL-Regu-32\" transform=\"scale(0.015625)\"/>\r\n       </defs>\r\n       <use transform=\"scale(0.996264)\" xlink:href=\"#NimbusSanL-Regu-2d\"/>\r\n       <use transform=\"translate(33.17523 0)scale(0.996264)\" xlink:href=\"#NimbusSanL-Regu-31\"/>\r\n       <use transform=\"translate(88.566907 0)scale(0.996264)\" xlink:href=\"#NimbusSanL-Regu-32\"/>\r\n       <use transform=\"translate(143.958584 0)scale(0.996264)\" xlink:href=\"#NimbusSanL-Regu-30\"/>\r\n       <use transform=\"translate(199.350261 0)scale(0.996264)\" xlink:href=\"#NimbusSanL-Regu-b0\"/>\r\n      </g>\r\n     </g>\r\n    </g>\r\n    <g id=\"xtick_3\">\r\n     <g id=\"text_3\">\r\n      <!-- -90° -->\r\n      <g transform=\"translate(128.505422 222.40164)scale(0.1 -0.1)\">\r\n       <defs>\r\n        <path d=\"M 339 1063 \r\nC 448 313 934 -128 1626 -128 \r\nC 2125 -128 2579 115 2842 519 \r\nC 3130 966 3258 1528 3258 2351 \r\nC 3258 3103 3142 3583 2874 3981 \r\nC 2624 4345 2227 4544 1728 4544 \r\nC 864 4544 243 3906 243 3027 \r\nC 243 2193 819 1600 1638 1600 \r\nC 2067 1600 2381 1753 2675 2105 \r\nC 2669 992 2310 371 1664 371 \r\nC 1267 371 992 623 902 1063 \r\nL 339 1063 \r\nz\r\nM 1722 4051 \r\nC 2246 4051 2643 3621 2643 3040 \r\nC 2643 2490 2253 2099 1702 2099 \r\nC 1158 2099 819 2471 819 3072 \r\nC 819 3640 1203 4051 1722 4051 \r\nz\r\n\" id=\"NimbusSanL-Regu-39\" transform=\"scale(0.015625)\"/>\r\n       </defs>\r\n       <use transform=\"scale(0.996264)\" xlink:href=\"#NimbusSanL-Regu-2d\"/>\r\n       <use transform=\"translate(33.17523 0)scale(0.996264)\" xlink:href=\"#NimbusSanL-Regu-39\"/>\r\n       <use transform=\"translate(88.566907 0)scale(0.996264)\" xlink:href=\"#NimbusSanL-Regu-30\"/>\r\n       <use transform=\"translate(143.958584 0)scale(0.996264)\" xlink:href=\"#NimbusSanL-Regu-b0\"/>\r\n      </g>\r\n     </g>\r\n    </g>\r\n    <g id=\"xtick_4\">\r\n     <g id=\"text_4\">\r\n      <!-- -60° -->\r\n      <g transform=\"translate(164.745422 222.40164)scale(0.1 -0.1)\">\r\n       <defs>\r\n        <path d=\"M 3187 3352 \r\nC 3078 4102 2592 4544 1901 4544 \r\nC 1402 4544 954 4300 685 3895 \r\nC 403 3449 275 2887 275 2064 \r\nC 275 1312 390 832 659 434 \r\nC 902 70 1299 -128 1798 -128 \r\nC 2662 -128 3283 510 3283 1388 \r\nC 3283 2221 2707 2816 1894 2816 \r\nC 1446 2816 1094 2643 851 2310 \r\nC 858 3423 1216 4044 1862 4044 \r\nC 2259 4044 2534 3792 2624 3352 \r\nL 3187 3352 \r\nz\r\nM 1824 2316 \r\nC 2368 2316 2707 1944 2707 1343 \r\nC 2707 781 2323 371 1805 371 \r\nC 1280 371 883 800 883 1375 \r\nC 883 1931 1267 2316 1824 2316 \r\nz\r\n\" id=\"NimbusSanL-Regu-36\" transform=\"scale(0.015625)\"/>\r\n       </defs>\r\n       <use transform=\"scale(0.996264)\" xlink:href=\"#NimbusSanL-Regu-2d\"/>\r\n       <use transform=\"translate(33.17523 0)scale(0.996264)\" xlink:href=\"#NimbusSanL-Regu-36\"/>\r\n       <use transform=\"translate(88.566907 0)scale(0.996264)\" xlink:href=\"#NimbusSanL-Regu-30\"/>\r\n       <use transform=\"translate(143.958584 0)scale(0.996264)\" xlink:href=\"#NimbusSanL-Regu-b0\"/>\r\n      </g>\r\n     </g>\r\n    </g>\r\n    <g id=\"xtick_5\">\r\n     <g id=\"text_5\">\r\n      <!-- -30° -->\r\n      <g transform=\"translate(200.985422 222.40164)scale(0.1 -0.1)\">\r\n       <defs>\r\n        <path d=\"M 1414 2093 \r\nL 1485 2093 \r\nL 1722 2099 \r\nC 2342 2099 2662 1819 2662 1276 \r\nC 2662 709 2310 371 1722 371 \r\nC 1107 371 806 677 768 1334 \r\nL 205 1334 \r\nC 230 970 294 734 403 530 \r\nC 634 96 1082 -128 1702 -128 \r\nC 2637 -128 3238 428 3238 1283 \r\nC 3238 1857 3014 2176 2470 2361 \r\nC 2893 2526 3104 2845 3104 3298 \r\nC 3104 4076 2586 4544 1722 4544 \r\nC 806 4544 320 4044 301 3081 \r\nL 864 3081 \r\nC 870 3356 896 3509 966 3649 \r\nC 1094 3898 1376 4051 1728 4051 \r\nC 2227 4051 2528 3757 2528 3279 \r\nC 2528 2960 2413 2769 2163 2667 \r\nC 2010 2603 1811 2577 1414 2571 \r\nL 1414 2093 \r\nz\r\n\" id=\"NimbusSanL-Regu-33\" transform=\"scale(0.015625)\"/>\r\n       </defs>\r\n       <use transform=\"scale(0.996264)\" xlink:href=\"#NimbusSanL-Regu-2d\"/>\r\n       <use transform=\"translate(33.17523 0)scale(0.996264)\" xlink:href=\"#NimbusSanL-Regu-33\"/>\r\n       <use transform=\"translate(88.566907 0)scale(0.996264)\" xlink:href=\"#NimbusSanL-Regu-30\"/>\r\n       <use transform=\"translate(143.958584 0)scale(0.996264)\" xlink:href=\"#NimbusSanL-Regu-b0\"/>\r\n      </g>\r\n     </g>\r\n    </g>\r\n    <g id=\"xtick_6\">\r\n     <g id=\"text_6\">\r\n      <!-- 0° -->\r\n      <g transform=\"translate(241.653762 222.40164)scale(0.1 -0.1)\">\r\n       <use transform=\"scale(0.996264)\" xlink:href=\"#NimbusSanL-Regu-30\"/>\r\n       <use transform=\"translate(55.391677 0)scale(0.996264)\" xlink:href=\"#NimbusSanL-Regu-b0\"/>\r\n      </g>\r\n     </g>\r\n    </g>\r\n    <g id=\"xtick_7\">\r\n     <g id=\"text_7\">\r\n      <!-- 30° -->\r\n      <g transform=\"translate(275.12418 222.40164)scale(0.1 -0.1)\">\r\n       <use transform=\"scale(0.996264)\" xlink:href=\"#NimbusSanL-Regu-33\"/>\r\n       <use transform=\"translate(55.391677 0)scale(0.996264)\" xlink:href=\"#NimbusSanL-Regu-30\"/>\r\n       <use transform=\"translate(110.783354 0)scale(0.996264)\" xlink:href=\"#NimbusSanL-Regu-b0\"/>\r\n      </g>\r\n     </g>\r\n    </g>\r\n    <g id=\"xtick_8\">\r\n     <g id=\"text_8\">\r\n      <!-- 60° -->\r\n      <g transform=\"translate(311.36418 222.40164)scale(0.1 -0.1)\">\r\n       <use transform=\"scale(0.996264)\" xlink:href=\"#NimbusSanL-Regu-36\"/>\r\n       <use transform=\"translate(55.391677 0)scale(0.996264)\" xlink:href=\"#NimbusSanL-Regu-30\"/>\r\n       <use transform=\"translate(110.783354 0)scale(0.996264)\" xlink:href=\"#NimbusSanL-Regu-b0\"/>\r\n      </g>\r\n     </g>\r\n    </g>\r\n    <g id=\"xtick_9\">\r\n     <g id=\"text_9\">\r\n      <!-- 90° -->\r\n      <g transform=\"translate(347.60418 222.40164)scale(0.1 -0.1)\">\r\n       <use transform=\"scale(0.996264)\" xlink:href=\"#NimbusSanL-Regu-39\"/>\r\n       <use transform=\"translate(55.391677 0)scale(0.996264)\" xlink:href=\"#NimbusSanL-Regu-30\"/>\r\n       <use transform=\"translate(110.783354 0)scale(0.996264)\" xlink:href=\"#NimbusSanL-Regu-b0\"/>\r\n      </g>\r\n     </g>\r\n    </g>\r\n    <g id=\"xtick_10\">\r\n     <g id=\"text_10\">\r\n      <!-- 120° -->\r\n      <g transform=\"translate(381.074597 222.40164)scale(0.1 -0.1)\">\r\n       <use transform=\"scale(0.996264)\" xlink:href=\"#NimbusSanL-Regu-31\"/>\r\n       <use transform=\"translate(55.391677 0)scale(0.996264)\" xlink:href=\"#NimbusSanL-Regu-32\"/>\r\n       <use transform=\"translate(110.783354 0)scale(0.996264)\" xlink:href=\"#NimbusSanL-Regu-30\"/>\r\n       <use transform=\"translate(166.175031 0)scale(0.996264)\" xlink:href=\"#NimbusSanL-Regu-b0\"/>\r\n      </g>\r\n     </g>\r\n    </g>\r\n    <g id=\"xtick_11\">\r\n     <g id=\"text_11\">\r\n      <!-- 150° -->\r\n      <g transform=\"translate(417.314597 222.40164)scale(0.1 -0.1)\">\r\n       <use transform=\"scale(0.996264)\" xlink:href=\"#NimbusSanL-Regu-31\"/>\r\n       <use transform=\"translate(55.391677 0)scale(0.996264)\" xlink:href=\"#NimbusSanL-Regu-35\"/>\r\n       <use transform=\"translate(110.783354 0)scale(0.996264)\" xlink:href=\"#NimbusSanL-Regu-30\"/>\r\n       <use transform=\"translate(166.175031 0)scale(0.996264)\" xlink:href=\"#NimbusSanL-Regu-b0\"/>\r\n      </g>\r\n     </g>\r\n    </g>\r\n   </g>\r\n   <g id=\"matplotlib.axis_2\">\r\n    <g id=\"ytick_1\">\r\n     <g id=\"text_12\">\r\n      <!-- -75° -->\r\n      <g transform=\"translate(128.022329 447.725266)scale(0.1 -0.1)\">\r\n       <defs>\r\n        <path d=\"M 3328 4544 \r\nL 294 4544 \r\nL 294 3987 \r\nL 2746 3987 \r\nC 1664 2442 1222 1493 883 0 \r\nL 1485 0 \r\nC 1734 1454 2304 2704 3328 4070 \r\nL 3328 4544 \r\nz\r\n\" id=\"NimbusSanL-Regu-37\" transform=\"scale(0.015625)\"/>\r\n       </defs>\r\n       <use transform=\"scale(0.996264)\" xlink:href=\"#NimbusSanL-Regu-2d\"/>\r\n       <use transform=\"translate(33.17523 0)scale(0.996264)\" xlink:href=\"#NimbusSanL-Regu-37\"/>\r\n       <use transform=\"translate(88.566907 0)scale(0.996264)\" xlink:href=\"#NimbusSanL-Regu-35\"/>\r\n       <use transform=\"translate(143.958584 0)scale(0.996264)\" xlink:href=\"#NimbusSanL-Regu-b0\"/>\r\n      </g>\r\n     </g>\r\n    </g>\r\n    <g id=\"ytick_2\">\r\n     <g id=\"text_13\">\r\n      <!-- -60° -->\r\n      <g transform=\"translate(79.322035 413.359882)scale(0.1 -0.1)\">\r\n       <use transform=\"scale(0.996264)\" xlink:href=\"#NimbusSanL-Regu-2d\"/>\r\n       <use transform=\"translate(33.17523 0)scale(0.996264)\" xlink:href=\"#NimbusSanL-Regu-36\"/>\r\n       <use transform=\"translate(88.566907 0)scale(0.996264)\" xlink:href=\"#NimbusSanL-Regu-30\"/>\r\n       <use transform=\"translate(143.958584 0)scale(0.996264)\" xlink:href=\"#NimbusSanL-Regu-b0\"/>\r\n      </g>\r\n     </g>\r\n    </g>\r\n    <g id=\"ytick_3\">\r\n     <g id=\"text_14\">\r\n      <!-- -45° -->\r\n      <g transform=\"translate(44.751126 372.547749)scale(0.1 -0.1)\">\r\n       <defs>\r\n        <path d=\"M 2093 1088 \r\nL 2093 0 \r\nL 2656 0 \r\nL 2656 1088 \r\nL 3328 1088 \r\nL 3328 1593 \r\nL 2656 1593 \r\nL 2656 4537 \r\nL 2240 4537 \r\nL 179 1683 \r\nL 179 1088 \r\nL 2093 1088 \r\nz\r\nM 2093 1593 \r\nL 672 1593 \r\nL 2093 3577 \r\nL 2093 1593 \r\nz\r\n\" id=\"NimbusSanL-Regu-34\" transform=\"scale(0.015625)\"/>\r\n       </defs>\r\n       <use transform=\"scale(0.996264)\" xlink:href=\"#NimbusSanL-Regu-2d\"/>\r\n       <use transform=\"translate(33.17523 0)scale(0.996264)\" xlink:href=\"#NimbusSanL-Regu-34\"/>\r\n       <use transform=\"translate(88.566907 0)scale(0.996264)\" xlink:href=\"#NimbusSanL-Regu-35\"/>\r\n       <use transform=\"translate(143.958584 0)scale(0.996264)\" xlink:href=\"#NimbusSanL-Regu-b0\"/>\r\n      </g>\r\n     </g>\r\n    </g>\r\n    <g id=\"ytick_4\">\r\n     <g id=\"text_15\">\r\n      <!-- -30° -->\r\n      <g transform=\"translate(21.125602 327.631708)scale(0.1 -0.1)\">\r\n       <use transform=\"scale(0.996264)\" xlink:href=\"#NimbusSanL-Regu-2d\"/>\r\n       <use transform=\"translate(33.17523 0)scale(0.996264)\" xlink:href=\"#NimbusSanL-Regu-33\"/>\r\n       <use transform=\"translate(88.566907 0)scale(0.996264)\" xlink:href=\"#NimbusSanL-Regu-30\"/>\r\n       <use transform=\"translate(143.958584 0)scale(0.996264)\" xlink:href=\"#NimbusSanL-Regu-b0\"/>\r\n      </g>\r\n     </g>\r\n    </g>\r\n    <g id=\"ytick_5\">\r\n     <g id=\"text_16\">\r\n      <!-- -15° -->\r\n      <g transform=\"translate(7.2 279.976317)scale(0.1 -0.1)\">\r\n       <use transform=\"scale(0.996264)\" xlink:href=\"#NimbusSanL-Regu-2d\"/>\r\n       <use transform=\"translate(33.17523 0)scale(0.996264)\" xlink:href=\"#NimbusSanL-Regu-31\"/>\r\n       <use transform=\"translate(88.566907 0)scale(0.996264)\" xlink:href=\"#NimbusSanL-Regu-35\"/>\r\n       <use transform=\"translate(143.958584 0)scale(0.996264)\" xlink:href=\"#NimbusSanL-Regu-b0\"/>\r\n      </g>\r\n     </g>\r\n    </g>\r\n    <g id=\"ytick_6\">\r\n     <g id=\"text_17\">\r\n      <!-- 0° -->\r\n      <g transform=\"translate(11.451659 231.011793)scale(0.1 -0.1)\">\r\n       <use transform=\"scale(0.996264)\" xlink:href=\"#NimbusSanL-Regu-30\"/>\r\n       <use transform=\"translate(55.391677 0)scale(0.996264)\" xlink:href=\"#NimbusSanL-Regu-b0\"/>\r\n      </g>\r\n     </g>\r\n    </g>\r\n    <g id=\"ytick_7\">\r\n     <g id=\"text_18\">\r\n      <!-- 15° -->\r\n      <g transform=\"translate(10.517515 182.047269)scale(0.1 -0.1)\">\r\n       <use transform=\"scale(0.996264)\" xlink:href=\"#NimbusSanL-Regu-31\"/>\r\n       <use transform=\"translate(55.391677 0)scale(0.996264)\" xlink:href=\"#NimbusSanL-Regu-35\"/>\r\n       <use transform=\"translate(110.783354 0)scale(0.996264)\" xlink:href=\"#NimbusSanL-Regu-b0\"/>\r\n      </g>\r\n     </g>\r\n    </g>\r\n    <g id=\"ytick_8\">\r\n     <g id=\"text_19\">\r\n      <!-- 30° -->\r\n      <g transform=\"translate(24.443117 134.391878)scale(0.1 -0.1)\">\r\n       <use transform=\"scale(0.996264)\" xlink:href=\"#NimbusSanL-Regu-33\"/>\r\n       <use transform=\"translate(55.391677 0)scale(0.996264)\" xlink:href=\"#NimbusSanL-Regu-30\"/>\r\n       <use transform=\"translate(110.783354 0)scale(0.996264)\" xlink:href=\"#NimbusSanL-Regu-b0\"/>\r\n      </g>\r\n     </g>\r\n    </g>\r\n    <g id=\"ytick_9\">\r\n     <g id=\"text_20\">\r\n      <!-- 45° -->\r\n      <g transform=\"translate(48.068642 89.475837)scale(0.1 -0.1)\">\r\n       <use transform=\"scale(0.996264)\" xlink:href=\"#NimbusSanL-Regu-34\"/>\r\n       <use transform=\"translate(55.391677 0)scale(0.996264)\" xlink:href=\"#NimbusSanL-Regu-35\"/>\r\n       <use transform=\"translate(110.783354 0)scale(0.996264)\" xlink:href=\"#NimbusSanL-Regu-b0\"/>\r\n      </g>\r\n     </g>\r\n    </g>\r\n    <g id=\"ytick_10\">\r\n     <g id=\"text_21\">\r\n      <!-- 60° -->\r\n      <g transform=\"translate(82.639551 48.663704)scale(0.1 -0.1)\">\r\n       <use transform=\"scale(0.996264)\" xlink:href=\"#NimbusSanL-Regu-36\"/>\r\n       <use transform=\"translate(55.391677 0)scale(0.996264)\" xlink:href=\"#NimbusSanL-Regu-30\"/>\r\n       <use transform=\"translate(110.783354 0)scale(0.996264)\" xlink:href=\"#NimbusSanL-Regu-b0\"/>\r\n      </g>\r\n     </g>\r\n    </g>\r\n    <g id=\"ytick_11\">\r\n     <g id=\"text_22\">\r\n      <!-- 75° -->\r\n      <g transform=\"translate(131.339844 14.29832)scale(0.1 -0.1)\">\r\n       <use transform=\"scale(0.996264)\" xlink:href=\"#NimbusSanL-Regu-37\"/>\r\n       <use transform=\"translate(55.391677 0)scale(0.996264)\" xlink:href=\"#NimbusSanL-Regu-35\"/>\r\n       <use transform=\"translate(110.783354 0)scale(0.996264)\" xlink:href=\"#NimbusSanL-Regu-b0\"/>\r\n      </g>\r\n     </g>\r\n    </g>\r\n   </g>\r\n   <g id=\"patch_3\">\r\n    <path d=\"M 246.415865 445.963626 \r\nC 304.081627 445.963626 359.393312 423.052776 400.169163 382.276925 \r\nC 440.945014 341.501073 463.855865 286.189388 463.855865 228.523626 \r\nC 463.855865 170.857864 440.945014 115.546179 400.169163 74.770328 \r\nC 359.393312 33.994476 304.081627 11.083626 246.415865 11.083626 \r\nC 188.750103 11.083626 133.438417 33.994476 92.662566 74.770328 \r\nC 51.886715 115.546179 28.975865 170.857864 28.975865 228.523626 \r\nC 28.975865 286.189388 51.886715 341.501073 92.662566 382.276925 \r\nC 133.438417 423.052776 188.750103 445.963626 246.415865 445.963626 \r\nz\r\n\" style=\"fill:none;stroke:#000000;stroke-linecap:square;stroke-linejoin:miter;stroke-width:0.8;\"/>\r\n   </g>\r\n  </g>\r\n </g>\r\n <defs>\r\n  <clipPath id=\"p0691631388\">\r\n   <path d=\"M 246.415865 445.963626 \r\nC 304.081627 445.963626 359.393312 423.052776 400.169163 382.276925 \r\nC 440.945014 341.501073 463.855865 286.189388 463.855865 228.523626 \r\nC 463.855865 170.857864 440.945014 115.546179 400.169163 74.770328 \r\nC 359.393312 33.994476 304.081627 11.083626 246.415865 11.083626 \r\nC 188.750103 11.083626 133.438417 33.994476 92.662566 74.770328 \r\nC 51.886715 115.546179 28.975865 170.857864 28.975865 228.523626 \r\nC 28.975865 286.189388 51.886715 341.501073 92.662566 382.276925 \r\nC 133.438417 423.052776 188.750103 445.963626 246.415865 445.963626 \r\nz\r\n\"/>\r\n  </clipPath>\r\n </defs>\r\n</svg>\r\n",
      "image/png": "[encoded data removed]"
     },
     "metadata": {
      "needs_background": "light"
     }
    }
   ],
   "metadata": {}
  },
  {
   "cell_type": "code",
   "execution_count": 117,
   "source": [
    "set_size = 100\r\n",
    "samples = 1000"
   ],
   "outputs": [],
   "metadata": {}
  },
  {
   "cell_type": "code",
   "execution_count": 118,
   "source": [
    "def bkgrd_test_statistic_calc(samples=1000,\r\n",
    "                              setsize=1000):\r\n",
    "    sets = int(samples / setsize)\r\n",
    "    totals = []\r\n",
    "    for set_id in range(sets):\r\n",
    "        density_sets = pickle.load(\r\n",
    "            open(\"..\\\\data\\\\storage\\\\density_sets_v3_%d.p\" % set_id, \"rb\")\r\n",
    "        )\r\n",
    "        tmp_total = np.zeros_like(density_sets[0])\r\n",
    "        for density_set in density_sets:\r\n",
    "            tmp_total += density_set\r\n",
    "        tmp_total = tmp_total / setsize\r\n",
    "        totals.append(tmp_total)\r\n",
    "    average_density = np.zeros_like(totals[0])\r\n",
    "    for total in totals:\r\n",
    "        average_density += total\r\n",
    "    average_density = average_density / sets  # Normalized\r\n",
    "    # Finding the average test statistic\r\n",
    "    chi2_bkgrd_all = []\r\n",
    "    for set_id in range(sets):\r\n",
    "        density_sets = pickle.load(\r\n",
    "            open(\"..\\\\data\\\\storage\\\\density_sets_v3_%d.p\" % set_id, \"rb\")\r\n",
    "        )\r\n",
    "        # Comparing to the scrambled data\r\n",
    "        chi2_bkgrd_set = np.array([\r\n",
    "        np.sum(\r\n",
    "                np.nan_to_num((density_set - average_density)**2. / average_density)\r\n",
    "            )\r\n",
    "            for density_set in density_sets\r\n",
    "        ])\r\n",
    "        chi2_bkgrd_all.append(chi2_bkgrd_set)\r\n",
    "    chi2_test_bkgrd = np.mean(chi2_bkgrd_all)\r\n",
    "    return chi2_test_bkgrd, average_density\r\n",
    "chi2_background_statistic, bkgrd_density = (\r\n",
    "    bkgrd_test_statistic_calc(samples=samples, setsize=set_size)\r\n",
    ")\r\n",
    "pickle.dump([chi2_background_statistic, bkgrd_density],\r\n",
    "            open(\"..\\\\data\\\\test_set_v3.pkl\", \"wb\"))"
   ],
   "outputs": [],
   "metadata": {}
  },
  {
   "cell_type": "code",
   "execution_count": 119,
   "source": [
    "chi2_background_statistic"
   ],
   "outputs": [
    {
     "output_type": "execute_result",
     "data": {
      "text/plain": [
       "188719.38066258305"
      ]
     },
     "metadata": {},
     "execution_count": 119
    }
   ],
   "metadata": {}
  },
  {
   "cell_type": "code",
   "execution_count": 120,
   "source": [
    "def improved_comparison_signal(signals, q_bkgrd, bkgrd_density):\r\n",
    "    chi_data = []\r\n",
    "    for signal in signals:\r\n",
    "        chi_data.append(np.sum(np.nan_to_num(\r\n",
    "            (signal)**2. / bkgrd_density\r\n",
    "        )))\r\n",
    "    chi_data = np.array(chi_data)\r\n",
    "    subset = chi_data[chi_data > q_bkgrd]\r\n",
    "    fraction = len(subset) / len(chi_data)\r\n",
    "    return fraction"
   ],
   "outputs": [],
   "metadata": {}
  },
  {
   "cell_type": "code",
   "execution_count": 121,
   "source": [
    "signal_densities_v3 = np.array([\r\n",
    "    signal_density_constructor_v3(\r\n",
    "        21, 2, 1e-20, seed, angle_uncer=1.\r\n",
    "    ) for seed in range(100)\r\n",
    "])"
   ],
   "outputs": [],
   "metadata": {}
  },
  {
   "cell_type": "code",
   "execution_count": 122,
   "source": [
    "cl_lim = (\r\n",
    "    improved_comparison_signal(signal_densities_v3,\r\n",
    "        chi2_background_statistic, bkgrd_density\r\n",
    "    )\r\n",
    ")\r\n",
    "cl_lim"
   ],
   "outputs": [
    {
     "output_type": "execute_result",
     "data": {
      "text/plain": [
       "0.0"
      ]
     },
     "metadata": {},
     "execution_count": 122
    }
   ],
   "metadata": {}
  },
  {
   "cell_type": "code",
   "execution_count": 123,
   "source": [
    "cl_lim_all = []\r\n",
    "population = [1, 5]\r\n",
    "flux_scan = np.logspace(-24, -14, 21)\r\n",
    "ide_scan = [0, 20, 30]\r\n",
    "for ide in tqdm(ide_scan):\r\n",
    "    cl_lim_store = []\r\n",
    "    for pop in population:\r\n",
    "        cl_tmp = []\r\n",
    "        for flux in flux_scan:\r\n",
    "            signal_densities = np.array([\r\n",
    "                signal_density_constructor_v3(\r\n",
    "                    ide, pop, flux, seed, angle_uncer=1.\r\n",
    "                ) for seed in range(100)\r\n",
    "            ])\r\n",
    "            cl_lim = (\r\n",
    "                improved_comparison_signal(signal_densities,\r\n",
    "                    chi2_background_statistic, bkgrd_density)\r\n",
    "            )\r\n",
    "            cl_tmp.append(cl_lim)\r\n",
    "        cl_lim_store.append(cl_tmp)\r\n",
    "    cl_lim_all.append(cl_lim_store)"
   ],
   "outputs": [
    {
     "output_type": "stream",
     "name": "stderr",
     "text": [
      "  0%|          | 0/3 [00:00<?, ?it/s]"
     ]
    }
   ],
   "metadata": {}
  },
  {
   "cell_type": "code",
   "execution_count": null,
   "source": [
    "# Fetching the flux values\r\n",
    "population_plot = range(len(population))\r\n",
    "plot_grid_y = []\r\n",
    "for ide in range(len(ide_scan)):\r\n",
    "    tmp_plot_grid = []\r\n",
    "    for pop in population_plot:\r\n",
    "        spline = UnivariateSpline(flux_scan, cl_lim_all[ide][pop], k=1, s=0)\r\n",
    "        def root_flux(flux):\r\n",
    "            return (spline(10**flux) - 0.9)\r\n",
    "        sol = root_scalar(root_flux, bracket=[-26, -13], method='brentq')\r\n",
    "        value = sol.root\r\n",
    "        tmp_plot_grid.append(value)\r\n",
    "    plot_grid_y.append(tmp_plot_grid)\r\n",
    "plot_grid_y = np.array(plot_grid_y)"
   ],
   "outputs": [],
   "metadata": {}
  },
  {
   "cell_type": "code",
   "execution_count": null,
   "source": [
    "figure, (ax1) = plt.subplots(\r\n",
    "    1, 1,\r\n",
    "    figsize=(std_size, std_size * 6. / 8.),\r\n",
    "    sharex=True\r\n",
    ")\r\n",
    "# ---------------------------------------------\r\n",
    "# Plotting\r\n",
    "for pop in range(len(population)):\r\n",
    "    ax1.plot(m_egrid[ide_scan], np.array(plot_grid_y[:, pop]) +\r\n",
    "                                np.log10(m_egrid[ide_scan]**2))\r\n",
    "# ---------------------------------------------\r\n",
    "# Axis options\r\n",
    "ax1.set_xscale(\"log\")\r\n",
    "ax1.set_yscale(\"linear\")\r\n",
    "ax1.set_xlabel(r\"$\\log_{10} E_\\mathrm{injection}\\;[\\mathrm{GeV}]$\", fontsize=fontsize)\r\n",
    "ax1.set_ylabel(r\"$\\log_{10}E^2 \\phi_\\mathrm{lim}$\", fontsize=fontsize)\r\n",
    "ax1.tick_params(axis = 'both', which = 'major', labelsize=fontsize, direction='in')\r\n",
    "ax1.tick_params(axis = 'both', which = 'minor', labelsize=fontsize, direction='in')\r\n",
    "# ---------------------------------------------\r\n",
    "# Legend\r\n",
    "# plt.legend(fontsize=fontsize)\r\n",
    "# h, l = ax1.get_legend_handles_labels()\r\n",
    "# lgd1 = ax1.legend(h, l, loc=9, bbox_to_anchor=(0.5, +0.8),\r\n",
    "#                     ncol=2, fontsize=fontsize, handlelength=h_length,\r\n",
    "#                     fancybox=True, frameon=False)\r\n",
    "# ax1.add_artist(lgd1)\r\n",
    "# ---------------------------------------------\r\n",
    "# Showing the image\r\n",
    "plt.show()\r\n",
    "# ---------------------------------------------\r\n",
    "# Storing the image\r\n",
    "figure.savefig(PICS + \"source_limits_1PeV_v3.png\",\r\n",
    "                bbox_inches='tight', dpi=100)"
   ],
   "outputs": [],
   "metadata": {}
  },
  {
   "cell_type": "code",
   "execution_count": null,
   "source": [],
   "outputs": [],
   "metadata": {}
  }
 ],
 "metadata": {
  "kernelspec": {
   "name": "python3",
   "display_name": "Python 3.9.6 64-bit ('dmpoint': conda)"
  },
  "language_info": {
   "name": "python",
   "version": "3.9.6",
   "mimetype": "text/x-python",
   "codemirror_mode": {
    "name": "ipython",
    "version": 3
   },
   "pygments_lexer": "ipython3",
   "nbconvert_exporter": "python",
   "file_extension": ".py"
  },
  "interpreter": {
   "hash": "4c84b7d67a412213c96e521414babcbf2d5fbeeae9e91be6e9510e631c1f41fd"
  }
 },
 "nbformat": 4,
 "nbformat_minor": 4
}